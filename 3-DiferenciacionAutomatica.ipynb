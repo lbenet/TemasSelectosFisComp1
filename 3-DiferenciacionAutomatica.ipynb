{
 "metadata": {
  "language": "Julia",
  "name": "",
  "signature": "sha256:e4808569e2ff7e96c0bc1c2ef531eb3496aa962058d9e2b49f06068cdb7ccab9"
 },
 "nbformat": 3,
 "nbformat_minor": 0,
 "worksheets": [
  {
   "cells": [
    {
     "cell_type": "heading",
     "level": 1,
     "metadata": {},
     "source": [
      "Diferenciaci\u00f3n Autom\u00e1tica"
     ]
    },
    {
     "cell_type": "heading",
     "level": 2,
     "metadata": {},
     "source": [
      "1. Malas costumbres"
     ]
    },
    {
     "cell_type": "markdown",
     "metadata": {},
     "source": [
      "Siguiendo la definici\u00f3n de la derivada, calculamos la derivada de $f(x)$ en $x=x_0$ fijando un valor de $h$ (por ejemplo, $h=10^{-4}$), olvidando por ahora lo del l\u00edmite:\n",
      "\n",
      "$$\n",
      "\\frac{df}{dx}(x_0) \\approx \\frac{f(x_0+h)-f(x_0)}{h}\n",
      "$$"
     ]
    },
    {
     "cell_type": "code",
     "collapsed": false,
     "input": [
      "# Implementaci\u00f3n MUY ingenua de la derivada\n",
      "function derivada(ff, x0, h)\n",
      "    der = (ff(x0+h)-ff(x0))/h\n",
      "    return der\n",
      "end"
     ],
     "language": "python",
     "metadata": {},
     "outputs": [
      {
       "metadata": {},
       "output_type": "pyout",
       "prompt_number": 1,
       "text": [
        "derivada (generic function with 1 method)"
       ]
      }
     ],
     "prompt_number": 1
    },
    {
     "cell_type": "code",
     "collapsed": false,
     "input": [
      "# La funci\u00f3n \"caballito de batalla\"\n",
      "ftest(x) = 3x^3-2"
     ],
     "language": "python",
     "metadata": {},
     "outputs": [
      {
       "metadata": {},
       "output_type": "pyout",
       "prompt_number": 2,
       "text": [
        "ftest (generic function with 1 method)"
       ]
      }
     ],
     "prompt_number": 2
    },
    {
     "cell_type": "code",
     "collapsed": false,
     "input": [
      "derivada(ftest,1.0,1e-4)"
     ],
     "language": "python",
     "metadata": {},
     "outputs": [
      {
       "metadata": {},
       "output_type": "pyout",
       "prompt_number": 3,
       "text": [
        "9.000900029993986"
       ]
      }
     ],
     "prompt_number": 3
    },
    {
     "cell_type": "markdown",
     "metadata": {},
     "source": [
      "Ahora que ya tenemos la infraestructura b\u00e1sica, implementamos *num\u00e9ricamente* el l\u00edmite $h\\to 0$:"
     ]
    },
    {
     "cell_type": "code",
     "collapsed": false,
     "input": [
      "# Aqu\u00ed implementamos num\u00e9ricamente el l\u00edmite $h\\to0$\n",
      "for i=1:16\n",
      "    h = 1/10^i\n",
      "    der = derivada(ftest,1.0,h)\n",
      "    err = abs(1.0 - der/9.0)\n",
      "    println(\"$h\\t $der\\t $err\")\n",
      "end"
     ],
     "language": "python",
     "metadata": {},
     "outputs": [
      {
       "output_type": "stream",
       "stream": "stdout",
       "text": [
        "0.1\t 9.930000000000012\t 0.10333333333333461\n"
       ]
      },
      {
       "output_type": "stream",
       "stream": "stdout",
       "text": [
        "0.01\t 9.090299999999996\t 0.010033333333332894\n",
        "0.001\t 9.009002999998295\t 0.0010003333331438657\n",
        "0.0001\t 9.000900029993986\t 0.00010000333266502182\n",
        "1.0e-5\t 9.000090000332861\t 1.0000036984481042e-5\n",
        "1.0e-6\t 9.000008999393572\t 9.999326191501012e-7\n",
        "1.0e-7\t 9.000000904535455\t 1.0050393939309288e-7\n",
        "1.0e-8\t 9.000000034120603\t 3.7911780381705285e-9\n",
        "1.0e-9\t 9.000000744663339\t 8.274037099909037e-8\n",
        "1.0e-10\t 9.000000744663339\t 8.274037099909037e-8\n",
        "1.0e-11\t 9.000000744663339\t 8.274037099909037e-8\n",
        "1.0e-12\t 9.000800105241069\t 8.890058234101161e-5\n",
        "1.0e-13\t 8.992806499463768\t 0.0007992778373591136\n",
        "1.0e-14\t 8.970602038971265\t 0.0032664401143038813\n",
        "1.0e-15\t 9.769962616701378\t 0.08555140185570864\n",
        "1.0e-16\t 0.0\t 1.0\n"
       ]
      }
     ],
     "prompt_number": 4
    },
    {
     "cell_type": "markdown",
     "metadata": {},
     "source": [
      "**Problema !!!** Al diminuir $h$, el *error num\u00e9rico* mejora. Sin embargo, despu\u00e9s de cierto valor de $h$, valores menores inducen un error num\u00e9rico que domina y eventualmente destruye la precisi\u00f3n del c\u00e1lculo. Esto se debe a que usamos n\u00fameros y aritm\u00e9tica de punto flotante."
     ]
    },
    {
     "cell_type": "markdown",
     "metadata": {},
     "source": [
      "Una *mejor* alternativa respecto a lo descrito arriba es tomar diferencias sim\u00e9tricas (respecto a $h$):\n",
      "\n",
      "$$\n",
      "\\frac{df}{dx}(x_0) \\approx \\frac{f(x_0+h)-f(x_0-h)}{2h}\n",
      "$$"
     ]
    },
    {
     "cell_type": "code",
     "collapsed": false,
     "input": [
      "# Implementaci\u00f3n un poco menos ingenua de la derivada\n",
      "derivada2(ff, x0, h) = (ff(x0+h/2)-ff(x0-h/2))/h"
     ],
     "language": "python",
     "metadata": {},
     "outputs": [
      {
       "metadata": {},
       "output_type": "pyout",
       "prompt_number": 5,
       "text": [
        "derivada2 (generic function with 1 method)"
       ]
      }
     ],
     "prompt_number": 5
    },
    {
     "cell_type": "markdown",
     "metadata": {},
     "source": [
      "Entre par\u00e9ntesis, uno puede usar las funciones que hemos definido para que act\u00faen sobre *funciones impl\u00edcitas*:"
     ]
    },
    {
     "cell_type": "code",
     "collapsed": false,
     "input": [
      "derivada2(x->3x^3-2, 1.0, 1e-6), derivada2(ftest, 1.0, 1e-6)"
     ],
     "language": "python",
     "metadata": {},
     "outputs": [
      {
       "metadata": {},
       "output_type": "pyout",
       "prompt_number": 6,
       "text": [
        "(9.000000000369823,9.000000000369823)"
       ]
      }
     ],
     "prompt_number": 6
    },
    {
     "cell_type": "markdown",
     "metadata": {},
     "source": [
      "Y volvemos a checar el l\u00edmite $h\\to 0$:"
     ]
    },
    {
     "cell_type": "code",
     "collapsed": false,
     "input": [
      "for i=1:16\n",
      "    h = 1/10^i\n",
      "    der = derivada2(ftest,1.0,h)\n",
      "    err = abs(1.0 - der/9.0)\n",
      "    println(\"$h\\t $der\\t $err\")\n",
      "end"
     ],
     "language": "python",
     "metadata": {},
     "outputs": [
      {
       "output_type": "stream",
       "stream": "stdout",
       "text": [
        "0.1\t 9.007500000000004\t 0.0008333333333336856\n"
       ]
      },
      {
       "output_type": "stream",
       "stream": "stdout",
       "text": [
        "0.01\t 9.000074999999885\t 8.33333332050934e-6\n",
        "0.001\t 9.000000749999515\t 8.33332793881425e-8\n",
        "0.0001\t 9.000000007506337\t 8.340375057258598e-10\n",
        "1.0e-5\t 9.000000000147779\t 1.6419754444996215e-11\n",
        "1.0e-6\t 9.000000000369823\t 4.1091574587426294e-11\n",
        "1.0e-7\t 8.999999998593466\t 1.5628154326208232e-10\n",
        "1.0e-8\t 8.999999945302761\t 6.07747097092215e-9\n",
        "1.0e-9\t 9.000000744663339\t 8.274037099909037e-8\n",
        "1.0e-10\t 9.000000744663339\t 8.274037099909037e-8\n",
        "1.0e-11\t 9.000000744663339\t 8.274037099909037e-8\n",
        "1.0e-12\t 9.000800105241069\t 8.890058234101161e-5\n",
        "1.0e-13\t 8.988365607365267\t 0.0012927102927480227\n",
        "1.0e-14\t 9.103828801926284\t 0.011536533547364947\n",
        "1.0e-15\t 8.881784197001252\t 0.013135089222083063\n",
        "1.0e-16\t 0.0\t 1.0\n"
       ]
      }
     ],
     "prompt_number": 7
    },
    {
     "cell_type": "markdown",
     "metadata": {},
     "source": [
      "Lo primero que hay que notar es que con la nueva implementaci\u00f3n, el error num\u00e9rico disminuye. De hecho, la convergencia es cuadr\u00e1tica respecto a la $h$. Sin embargo, el mismo fen\u00f3meno observado antes se observa aqu\u00ed: disminuir $h$ m\u00e1s all\u00e1 de cierto valor introduce errores num\u00e9ricos indeseables."
     ]
    },
    {
     "cell_type": "markdown",
     "metadata": {},
     "source": [
      "####MORALEJA#### \n",
      "\n",
      "**NO** usar la definici\u00f3n m\u00e1s ingenua para calcular derivadas; en el peor de los casos usar *diferencias finitas* simetrizadas (como la funci\u00f3n `derivada2`)."
     ]
    },
    {
     "cell_type": "heading",
     "level": 2,
     "metadata": {},
     "source": [
      "2. Un par ordenado"
     ]
    },
    {
     "cell_type": "markdown",
     "metadata": {},
     "source": [
      "Introducimos un par ordenado (*dual*), como el par en que la primer componente tiene el valor de la funci\u00f3n evaluada en un punto $x_0$, y la segunda tiene el valor de la derivada en ese mismo punto:\n",
      "\n",
      "$$\n",
      "\\vec{u}(x_0) = \\big( u_0, u'_0), \n",
      "$$\n",
      "\n",
      "donde $u_0 = u(x_0)$ y $u'_0=\\frac{d u}{d x}(x_0)$.\n"
     ]
    },
    {
     "cell_type": "code",
     "collapsed": false,
     "input": [
      "# La definici\u00f3n del tipo Dual la hacemos param\u00e9tricamente\n",
      "type Dual{T <: Real}\n",
      "    fun :: T\n",
      "    der :: T\n",
      "end"
     ],
     "language": "python",
     "metadata": {},
     "outputs": [],
     "prompt_number": 8
    },
    {
     "cell_type": "markdown",
     "metadata": {},
     "source": [
      "Entonces, con esta definici\u00f3n, tenemos que el dual de la funci\u00f3n constante, o el dual de la funci\u00f3n identidad (la variable independiente) est\u00e1n dadas por:\n",
      "\n",
      "\\begin{eqnarray}\n",
      "\\vec{c}(x_0) &= \\big( c, 0 \\big),\\\\\n",
      "\\vec{x}(x_0) &= \\big( x_0, 1 \\big).\\\\\n",
      "\\end{eqnarray}"
     ]
    },
    {
     "cell_type": "markdown",
     "metadata": {},
     "source": [
      "Lo siguiente define el comportamiento del dual asociado a la funci\u00f3n constante:"
     ]
    },
    {
     "cell_type": "code",
     "collapsed": false,
     "input": [
      "# Dual(c::T<:Real) = Dual(c, zero(c))\n",
      "Dual{T<:Real}(c::T) = Dual{T}(c, zero(T))"
     ],
     "language": "python",
     "metadata": {},
     "outputs": [
      {
       "metadata": {},
       "output_type": "pyout",
       "prompt_number": 9,
       "text": [
        "Dual{T<:Real} (constructor with 2 methods)"
       ]
      }
     ],
     "prompt_number": 9
    },
    {
     "cell_type": "code",
     "collapsed": false,
     "input": [
      "# Probando, probando....\n",
      "Dual(0,1), Dual(3)"
     ],
     "language": "python",
     "metadata": {},
     "outputs": [
      {
       "metadata": {},
       "output_type": "pyout",
       "prompt_number": 10,
       "text": [
        "(Dual{Int64}(0,1),Dual{Int64}(3,0))"
       ]
      }
     ],
     "prompt_number": 10
    },
    {
     "cell_type": "markdown",
     "metadata": {},
     "source": [
      "La *aritm\u00e9tica b\u00e1sica* de los duales viene dada por:\n",
      "\n",
      "\\begin{eqnarray}\n",
      "    \\vec{u} \\pm \\vec(w) &=& \\big( u_0 \\pm w_0, u'_0\\pm w'_0 \\big),\\\\\n",
      "    \\vec{u} \\times \\vec(w) &=& \\big( u_0 \\cdot w_0, u_0 w'_0 +  w_0 u'_0 \\big),\\\\\n",
      "    \\frac{\\vec{u}}{\\vec{w}} &=& \\big( \\frac{u_0}{w_0}, \\frac{ u'_0 - (u_0/w_0)w'_0}{w_0}\\big),\\\\\n",
      "    \\vec{u}^\\alpha &=& \\big( u_0^\\alpha, \\alpha u_0^{\\alpha-1} u'_0 \\big).\\\\\n",
      "\\end{eqnarray}    \n"
     ]
    },
    {
     "cell_type": "markdown",
     "metadata": {},
     "source": [
      "La impleentaci\u00f3n es la siguiente:"
     ]
    },
    {
     "cell_type": "code",
     "collapsed": false,
     "input": [
      "+(u::Dual,w::Dual) = Dual( u.fun+w.fun, u.der+w.der)\n",
      "\n",
      "-(u::Dual,w::Dual) = Dual( -(u.fun,w.fun), -(u.der,w.der) )\n",
      "\n",
      "*(u::Dual,w::Dual) = Dual( u.fun*w.fun, u.der*w.fun+u.fun*w.der )\n",
      "\n",
      "function /(u::Dual,w::Dual)\n",
      "    ff = u.fun/w.fun\n",
      "    dd = (u.der-ff*w.der)/w.fun\n",
      "    Dual( ff, dd )\n",
      "end\n",
      "\n",
      "# La raz\u00f3n de la siguiente implementaci\u00f3n de ^ es para evitar un aviso de julia\n",
      "# cuando la potencia es un n\u00famero entero\n",
      "^(u::Dual, a::Integer) = Dual( u.fun^a, a*u.fun^(a-1)*u.der )\n",
      "\n",
      "function ^(u::Dual, a::Real)\n",
      "    ff = u.fun^(a-1)\n",
      "    Dual( ff*u.fun, a*ff*u.der)\n",
      "end"
     ],
     "language": "python",
     "metadata": {},
     "outputs": [
      {
       "metadata": {},
       "output_type": "pyout",
       "prompt_number": 11,
       "text": [
        "^ (generic function with 47 methods)"
       ]
      }
     ],
     "prompt_number": 11
    },
    {
     "cell_type": "markdown",
     "metadata": {},
     "source": [
      "Las funciones que definimos arriba *no incluyen* los casos en que se opera una constante sobre un dual. Esto lo debemos implementar por separado, aunque vale la pena decir que hay otras maneras\n",
      "de hacerlo (usando `convert` and `promote`). Esto lo hacemos usando *metaprogramming*. Vale la pena *notar* que al final hemos incluido la manera en que `+` y `-` act\u00faan sobre un dual. "
     ]
    },
    {
     "cell_type": "code",
     "collapsed": false,
     "input": [
      "# Esto se incluye para operar con n\u00fameros comunes\n",
      "for op in (:+, :-, :*, :/)\n",
      "    @eval begin\n",
      "        $op(u::Dual, c::Real) = $op(u, Dual(c))\n",
      "        $op(c::Real, u::Dual) = $op(Dual(c), u)\n",
      "    end\n",
      "end\n",
      "+(u::Dual) = u\n",
      "-(u::Dual) = Dual(-u.fun, -u.der)"
     ],
     "language": "python",
     "metadata": {},
     "outputs": [
      {
       "metadata": {},
       "output_type": "pyout",
       "prompt_number": 12,
       "text": [
        "- (generic function with 141 methods)"
       ]
      }
     ],
     "prompt_number": 12
    },
    {
     "cell_type": "code",
     "collapsed": false,
     "input": [
      "# Probando, probando....\n",
      "Dual(1.3)+1"
     ],
     "language": "python",
     "metadata": {},
     "outputs": [
      {
       "metadata": {},
       "output_type": "pyout",
       "prompt_number": 13,
       "text": [
        "Dual{Float64}(2.3,0.0)"
       ]
      }
     ],
     "prompt_number": 13
    },
    {
     "cell_type": "markdown",
     "metadata": {},
     "source": [
      "Ahora lo que queremos hacer es mostrar que, usando los duales, obtenemos el valor de la derivada de esencialmente con el error asociada al redondeo(!). Para esto, empezamos con `ftest` definida antes. El *truco* es evaluar `ftest( Dual(1,1) )`, es decir, cuando la variable independiente $x$ (cuya derivada es 1, la segunda componente del par ordenado) est\u00e1 evaluada en $x_0=1$ (valor de la primer componente). \n",
      "\n",
      "El valor de la derivada es la segunda componente del resultado:"
     ]
    },
    {
     "cell_type": "code",
     "collapsed": false,
     "input": [
      "ftest( Dual(1,1) )"
     ],
     "language": "python",
     "metadata": {},
     "outputs": [
      {
       "metadata": {},
       "output_type": "pyout",
       "prompt_number": 14,
       "text": [
        "Dual{Int64}(1,9)"
       ]
      }
     ],
     "prompt_number": 14
    },
    {
     "cell_type": "code",
     "collapsed": false,
     "input": [
      "ans.der"
     ],
     "language": "python",
     "metadata": {},
     "outputs": [
      {
       "metadata": {},
       "output_type": "pyout",
       "prompt_number": 15,
       "text": [
        "9"
       ]
      }
     ],
     "prompt_number": 15
    },
    {
     "cell_type": "markdown",
     "metadata": {},
     "source": [
      "El resultado (segunda componente) muestra que la derivada de $f_{test}(x) = 3x^3-2$ en $x_0=1$ es\n",
      "9, como un c\u00e1lculo elemental muestra. Es decir, el error num\u00e9rico es id\u00e9ntico a cero! Vale la pena notar que este hecho, en este caso, no cambia si en lugar de usar n\u00fameros enteros usamos `Float64`:"
     ]
    },
    {
     "cell_type": "code",
     "collapsed": false,
     "input": [
      "ftest( Dual(1.0,1.0) )"
     ],
     "language": "python",
     "metadata": {},
     "outputs": [
      {
       "metadata": {},
       "output_type": "pyout",
       "prompt_number": 16,
       "text": [
        "Dual{Float64}(1.0,9.0)"
       ]
      }
     ],
     "prompt_number": 16
    },
    {
     "cell_type": "markdown",
     "metadata": {},
     "source": [
      "Tomemos otro ejemplo un poquito m\u00e1s elaborado: $f_{test}(x) = \\frac{3x^2-8x+5}{7x^3-1}$, evaluando en $x_0=1$:"
     ]
    },
    {
     "cell_type": "code",
     "collapsed": false,
     "input": [
      "ftest(x) = (3x^2-8x+5)/(7x^3-1)\n",
      "\n",
      "ftest( Dual(1,1) )"
     ],
     "language": "python",
     "metadata": {},
     "outputs": [
      {
       "metadata": {},
       "output_type": "pyout",
       "prompt_number": 17,
       "text": [
        "Dual{Float64}(0.0,-0.3333333333333333)"
       ]
      }
     ],
     "prompt_number": 17
    },
    {
     "cell_type": "markdown",
     "metadata": {},
     "source": [
      "Si, en cambio, usamos n\u00fameros racionales, obtenemos:"
     ]
    },
    {
     "cell_type": "code",
     "collapsed": false,
     "input": [
      "ftest( Dual(1//1,1//1) )"
     ],
     "language": "python",
     "metadata": {},
     "outputs": [
      {
       "metadata": {},
       "output_type": "pyout",
       "prompt_number": 18,
       "text": [
        "Dual{Rational{Int64}}(0//1,-1//3)"
       ]
      }
     ],
     "prompt_number": 18
    },
    {
     "cell_type": "markdown",
     "metadata": {},
     "source": [
      "Un c\u00e1lculo m\u00e1s tedioso pero elemental muestra que el resultado ($-1/3$) es *exacto*."
     ]
    },
    {
     "cell_type": "markdown",
     "metadata": {},
     "source": [
      "Quisi\u00e9ramos ahora poder extender esto a las funciones elementales, como $\\exp$, $\\log$, etc. La acci\u00f3n de estas funciones en un dual, como lo hemos definido, ser\u00e1:\n",
      "\n",
      "\\begin{eqnarray}\n",
      "\\exp[\\vec{u}(x_0)] &=& \\big( \\exp(u_0), u'_0\\exp(u_0) \\big),\\\\\n",
      "\\log[\\vec{u}(x_0)] &=& \\big( \\log(u_0), \\frac{u'_0}{u_0} \\big),\\\\\n",
      "\\sin[\\vec{u}(x_0)] &=& \\big( \\sin(u_0), u'_0\\cos(u_0) \\big),\\\\\n",
      "\\cos[\\vec{u}(x_0)] &=& \\big( \\cos(u_0), -u'_0\\sin(u_0) \\big),\\\\\n",
      "\\tan[\\vec{u}(x_0)] &=& \\big( \\tan(u_0), u'_0\\sec^2(u_0) \\big).\\\\\n",
      "\\end{eqnarray}\n",
      "\n",
      "Vale la pena notar que estamos aplicando la regla de la cadena; por eso es que aparece $u'_0$ en la segunda componente. Obviamente, otras funciones se pueden incluir de la misma manera."
     ]
    },
    {
     "cell_type": "markdown",
     "metadata": {},
     "source": [
      "En cuanto a la implementaci\u00f3n de esto en julia hay dos caminos. El primero es incluir la instrucci\u00f3n apropiada para cada funci\u00f3n. La otra es explotar metaprogramming nuevamente. Eso es lo que haremos. \n",
      "\n",
      "**NOTA** Como esto lo estamos haciendo *interactivamente* debemos importar las funciones que queremos extender. Hay dos maneras de hacer esto. incluyendo un `import Base.exp, Base.log, ` etc,\n",
      "para cada una de las funciones que queremos extender, o definir la funci\u00f3n apropiada llam\u00e1ndola\n",
      "`Base.exp`. \n",
      "\n",
      "Por claridad, abajo definimos una tupla que contiene tuplas (``tt``), cuyo primer elemento es la funci\u00f3n (o m\u00e1s apropiadamente, el s\u00edmbolo de la funci\u00f3n) que extenderemos, y la segunda la derivada de esa funci\u00f3n. N\u00f3tese que, en ciertos casos, la derivada no se puede expresar como una funci\u00f3n elemental, sino una funci\u00f3n que involucra varias funciones y operaciones. En esos casos, la derivada se escribe usando funciones impl\u00edcitas."
     ]
    },
    {
     "cell_type": "code",
     "collapsed": false,
     "input": [
      "tt = ((:(Base.exp),:(Base.exp)), (:(Base.log),:(x->1/x)), \n",
      "    (:(Base.sin),:(Base.cos)), (:(Base.cos),:(x->-sin(x))), \n",
      "    (:(Base.tan),:(x->(sec(x))^2)))\n",
      "\n",
      "for (ff,dd) in tt\n",
      "    @eval begin\n",
      "        function $ff(u::Dual)\n",
      "            Dual( $ff(u.fun), u.der*$dd(u.fun))\n",
      "        end\n",
      "    end\n",
      "end"
     ],
     "language": "python",
     "metadata": {},
     "outputs": [],
     "prompt_number": 19
    },
    {
     "cell_type": "code",
     "collapsed": false,
     "input": [
      "# Probando, probando...\n",
      "exp(Dual(1.0, 1.0)), log( Dual(2.0, 1.0))"
     ],
     "language": "python",
     "metadata": {},
     "outputs": [
      {
       "metadata": {},
       "output_type": "pyout",
       "prompt_number": 20,
       "text": [
        "(Dual{Float64}(2.718281828459045,2.718281828459045),Dual{Float64}(0.6931471805599453,0.5))"
       ]
      }
     ],
     "prompt_number": 20
    },
    {
     "cell_type": "markdown",
     "metadata": {},
     "source": [
      "Un ejemplo menos evidente es: $f_{test}(x) = sin(x^3-2/x^6)$, evaluado en $x_0=2$. Definimos `ftest` usando funciones impl\u00edcitas, *just for fun*:"
     ]
    },
    {
     "cell_type": "code",
     "collapsed": false,
     "input": [
      "ff = x -> sin(x^3-2/x^6)\n",
      "ff( Dual(2.0,1.0) )"
     ],
     "language": "python",
     "metadata": {},
     "outputs": [
      {
       "metadata": {},
       "output_type": "pyout",
       "prompt_number": 21,
       "text": [
        "Dual{Float64}(0.9934213368955197,-1.384934905523464)"
       ]
      }
     ],
     "prompt_number": 21
    },
    {
     "cell_type": "markdown",
     "metadata": {},
     "source": [
      "Seg\u00fan [Wolfram Alpha](http://www.wolframalpha.com/input/?i=d%2Fdx%5B+sin%28x%5E3-2%2Fx%5E6%29%5D+at+x%3D2), el resultado es:\n",
      "\n",
      "$$\\frac{387}{32}\\cos(\\frac{255}{32}),$$\n",
      "\n",
      "es decir:"
     ]
    },
    {
     "cell_type": "code",
     "collapsed": false,
     "input": [
      "387 * cos(255/32) / 32"
     ],
     "language": "python",
     "metadata": {},
     "outputs": [
      {
       "metadata": {},
       "output_type": "pyout",
       "prompt_number": 22,
       "text": [
        "-1.384934905523464"
       ]
      }
     ],
     "prompt_number": 22
    },
    {
     "cell_type": "markdown",
     "metadata": {},
     "source": [
      "La precisi\u00f3n del resultado es *impresionante*..."
     ]
    },
    {
     "cell_type": "code",
     "collapsed": false,
     "input": [
      "versioninfo()"
     ],
     "language": "python",
     "metadata": {},
     "outputs": [
      {
       "output_type": "stream",
       "stream": "stdout",
       "text": [
        "Julia Version 0.3.0-rc3+32\n"
       ]
      },
      {
       "output_type": "stream",
       "stream": "stdout",
       "text": [
        "Commit 640ccec* (2014-08-11 14:20 UTC)\n",
        "Platform Info:\n",
        "  System: Darwin (x86_64-apple-darwin13.2.0)\n",
        "  CPU: Intel(R) Core(TM) i7-4750HQ CPU @ 2.00GHz\n",
        "  WORD_SIZE: 64\n",
        "  BLAS: libopenblas (USE64BITINT DYNAMIC_ARCH NO_AFFINITY Haswell)\n",
        "  LAPACK: libopenblas\n",
        "  LIBM: libopenlibm\n",
        "  LLVM: libLLVM-3.3\n"
       ]
      }
     ],
     "prompt_number": 23
    },
    {
     "cell_type": "code",
     "collapsed": false,
     "input": [],
     "language": "python",
     "metadata": {},
     "outputs": []
    }
   ],
   "metadata": {}
  }
 ]
}