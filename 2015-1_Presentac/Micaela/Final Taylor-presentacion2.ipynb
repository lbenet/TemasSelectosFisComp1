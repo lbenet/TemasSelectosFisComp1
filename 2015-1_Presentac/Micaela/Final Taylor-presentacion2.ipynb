{
 "metadata": {
  "language": "Julia",
  "name": "",
  "signature": "sha256:aaefd74dad6ac8e0e5740a9d30fb4b6157c0a046b2a083e32dfe7024de519939"
 },
 "nbformat": 3,
 "nbformat_minor": 0,
 "worksheets": [
  {
   "cells": [
    {
     "cell_type": "heading",
     "level": 1,
     "metadata": {},
     "source": [
      "Formacion de binarias en interacciones entre varios cuerpos"
     ]
    },
    {
     "cell_type": "heading",
     "level": 2,
     "metadata": {},
     "source": [
      "0. Planteamiento del problema"
     ]
    },
    {
     "cell_type": "markdown",
     "metadata": {},
     "source": [
      "La mayor parte de las estrellas de nuestra galaxia son de las llamadas\n",
      "\"estrellas de baja masa\", con masas comparables a las del sol. Estas\n",
      "estrellas se forman en nucleos densos de nubes moleculares, los cuales\n",
      "son aproximadamente esfericos y con radios de aproximadamente 400 AU\n",
      "(unidades\n",
      "astronomicas = 1.5e13 cm). En cada uno de estos nucleos, se forman entre\n",
      "1 y 10 estrellas (aproximadamente).\n",
      "$$ $$\n",
      "En un articulo reciente, Reipurth y Mikkola (2012, Nature 492, p. 221)\n",
      "plantean el siguiente problema: si en uno de estos nucleos se forman 3\n",
      "estrellas (con posiciones arbitrarias y velocidades del orden de la\n",
      "velocidad de los movimientos turbulentos del gas en el nucleo), podria\n",
      "la interaccion entre estas estrellas resultar en la formacion de la\n",
      "fraccion de binarias que se observa en nuestra galaxia? Esta pregunta\n",
      "es interesante, porque si la fraccion de binarias observadas fuera\n",
      "mucho mayor a la predicha, esto implicaria la presencia de otro mecanismo de\n",
      "formacion de binarias (tal vez implicando que algunas de las estrellas\n",
      "se forman de entrada de a pares).\n",
      "\n",
      "En este proyecto hice un calculo similar al de Reipurth y Mikkola (2012),\n",
      "pero considerando una nube que produce un numero mayor de estrellas (en\n",
      "particular, N=5), para ver cual es la fraccion de binarias que se forman\n",
      "en la interaccion entre estas estrellas. Para hacer este calculo, escribi\n",
      "un codigo que integra las ecuaciones de la dinamica de N cuerpos,\n",
      "considerando\n",
      "las interacciones entre todos los cuerpos. "
     ]
    },
    {
     "cell_type": "heading",
     "level": 2,
     "metadata": {},
     "source": [
      "1. Condiciones iniciales"
     ]
    },
    {
     "cell_type": "markdown",
     "metadata": {},
     "source": [
      "Por cuestiones de cifras significativas y presicion de calculos utilizaremos las siguentes unidades:\n",
      "$$Masa \\rightarrow M_{\\odot}=2e33g$$\n",
      "$$Distancia \\rightarrow AU=1.5 e13 cm$$"
     ]
    },
    {
     "cell_type": "markdown",
     "metadata": {},
     "source": [
      "Tenemos que recalcular G en terminos de las unidades utilizadas:\n",
      "$$G=3.9548e-14 \\frac{AU^3}{s^2M_{\\odot}}$$"
     ]
    },
    {
     "cell_type": "code",
     "collapsed": false,
     "input": [
      "#defino constante\n",
      "const G=3.9548e-14"
     ],
     "language": "python",
     "metadata": {},
     "outputs": [
      {
       "metadata": {},
       "output_type": "pyout",
       "prompt_number": 1,
       "text": [
        "3.9548e-14"
       ]
      }
     ],
     "prompt_number": 1
    },
    {
     "cell_type": "heading",
     "level": 3,
     "metadata": {},
     "source": [
      "1.1 Masa"
     ]
    },
    {
     "cell_type": "markdown",
     "metadata": {},
     "source": [
      "Tomaremos, en un primer tiempo las masas iguales a $1 M_{\\odot}=2.10^{33}g$"
     ]
    },
    {
     "cell_type": "code",
     "collapsed": false,
     "input": [
      "m=[1.0,1.0,1.0,1.0,1.0]"
     ],
     "language": "python",
     "metadata": {},
     "outputs": [
      {
       "metadata": {},
       "output_type": "pyout",
       "prompt_number": 2,
       "text": [
        "5-element Array{Float64,1}:\n",
        " 1.0\n",
        " 1.0\n",
        " 1.0\n",
        " 1.0\n",
        " 1.0"
       ]
      }
     ],
     "prompt_number": 2
    },
    {
     "cell_type": "heading",
     "level": 3,
     "metadata": {},
     "source": [
      "1.2 Posiciones"
     ]
    },
    {
     "cell_type": "markdown",
     "metadata": {},
     "source": [
      "Generamos N posiciones uniformemente distribuidas dentro de una esfera de radio $R_0$ con una separacion\n",
      "minima de $d_0$"
     ]
    },
    {
     "cell_type": "code",
     "collapsed": false,
     "input": [
      "function pos_abs(R1)\n",
      "    r=Float64[]\n",
      "    for i=1:3\n",
      "        a=rand()\n",
      "        xi=(a-0.5)*2*R1\n",
      "        push!(r,xi)\n",
      "    end\n",
      "    return r\n",
      "end"
     ],
     "language": "python",
     "metadata": {},
     "outputs": [
      {
       "metadata": {},
       "output_type": "pyout",
       "prompt_number": 3,
       "text": [
        "pos_abs (generic function with 1 method)"
       ]
      }
     ],
     "prompt_number": 3
    },
    {
     "cell_type": "code",
     "collapsed": false,
     "input": [
      "#restrinjo mis posiciones a la esfera de radio R1\n",
      "function pos_min{T<:Real}(R1::T)\n",
      "   r0=Float64[]\n",
      "    i=1\n",
      "    #condicion de separacion maxima\n",
      "    while i<2\n",
      "        i+=1\n",
      "        r=pos_abs(R1)\n",
      "        Ri=(r[1])^2+(r[2])^2+(r[3])^2\n",
      "        if Ri>(R1^2)\n",
      "            i=i-1\n",
      "            #println(\"hola\")\n",
      "        else\n",
      "            #println(Ri)\n",
      "            r0=r\n",
      "        end\n",
      "    end\n",
      "    return r0\n",
      "end"
     ],
     "language": "python",
     "metadata": {},
     "outputs": [
      {
       "metadata": {},
       "output_type": "pyout",
       "prompt_number": 4,
       "text": [
        "pos_min (generic function with 1 method)"
       ]
      }
     ],
     "prompt_number": 4
    },
    {
     "cell_type": "code",
     "collapsed": false,
     "input": [
      "function pos{T<:Real}(R1::T,R0::T,m)\n",
      "    N=length(m)\n",
      "    #R=Float64[]\n",
      "    i=1\n",
      "    R=pos_min(R1)\n",
      "    #condicion de separacion minima\n",
      "    while i<N\n",
      "        i+=1\n",
      "        ri=pos_min(R1) #creo una nueva posicion que cumple la condicion min\n",
      "        Ri=(ri[1])^2+(ri[2])^2+(ri[3])^2\n",
      "        j=1\n",
      "        a=0\n",
      "        while j<i\n",
      "            d1=(R[3j-2]-ri[1])^2\n",
      "            d2=(R[3j-1]-ri[2])^2\n",
      "            d3=(R[3j]-ri[3])^2\n",
      "            Dij=sqrt(d1+d2+d3)\n",
      "            \n",
      "            if Dij<R0\n",
      "                a=1\n",
      "            end \n",
      "            j+=1\n",
      "        end       \n",
      "         if a>0.5\n",
      "            i=i-1\n",
      "        else\n",
      "            push! (R,ri[1],ri[2],ri[3])\n",
      "        end\n",
      "        #println(R)\n",
      "    end\n",
      "    return R\n",
      "end"
     ],
     "language": "python",
     "metadata": {},
     "outputs": [
      {
       "metadata": {},
       "output_type": "pyout",
       "prompt_number": 5,
       "text": [
        "pos (generic function with 1 method)"
       ]
      }
     ],
     "prompt_number": 5
    },
    {
     "cell_type": "heading",
     "level": 3,
     "metadata": {},
     "source": [
      "1.3 Velocidades"
     ]
    },
    {
     "cell_type": "markdown",
     "metadata": {},
     "source": [
      "Para generar las velocidades tomamos en cuenta el cociente virial: $$Q=-\\frac{T}{\\Omega}$$\n",
      "Donde $T$ es la energia cinetica y $\\Omega$ la energia potencial del sistema.\n",
      "$$ $$\n",
      "Para obtener un coeficiente virial de 0.5, lo cual es consistente con la velocidad turbulenta observada en los nucleos de nubes moleculares, primero hacemos unas aproximaciones para la energia cinetica y la energia potencial del sistema:\n",
      "$$T=\\frac{1}{2}N<m>< v_k^2 >$$\n",
      "$$\\Omega =-\\frac{3GN^2<m >^2}{5R}$$\n",
      "$$\\Downarrow$$\n",
      "$$< v^2>=\\frac{6QGN< m>}{5R}$$\n",
      "tomamos $$v_0 = (< v_k^2 >)^{1/2}$$"
     ]
    },
    {
     "cell_type": "code",
     "collapsed": false,
     "input": [
      "#creo velocidades arbitrarias en (-v0,v0)\n",
      "function vel(R,Q,m)\n",
      "    N=length(m)\n",
      "    mp=mean(m)\n",
      "    v0=sqrt(6*Q*G*N*mp/(5R))\n",
      "    #println(v0)\n",
      "    v=Float64[]\n",
      "    for i=1:3N\n",
      "        a=rand()\n",
      "        xi=(a-0.5)*2*v0\n",
      "        push!(v,xi)\n",
      "    end\n",
      "    return v\n",
      "end"
     ],
     "language": "python",
     "metadata": {},
     "outputs": [
      {
       "metadata": {},
       "output_type": "pyout",
       "prompt_number": 6,
       "text": [
        "vel (generic function with 1 method)"
       ]
      }
     ],
     "prompt_number": 6
    },
    {
     "cell_type": "heading",
     "level": 3,
     "metadata": {},
     "source": [
      "1.3 Generador general de condiciones iniciales"
     ]
    },
    {
     "cell_type": "code",
     "collapsed": false,
     "input": [
      "function inic (R0,R1,Q,m)\n",
      "    r=pos(R1,R0,m)\n",
      "    v=vel(R1,Q,m)\n",
      "    return m,r,v\n",
      "end"
     ],
     "language": "python",
     "metadata": {},
     "outputs": [
      {
       "metadata": {},
       "output_type": "pyout",
       "prompt_number": 7,
       "text": [
        "inic (generic function with 1 method)"
       ]
      }
     ],
     "prompt_number": 7
    },
    {
     "cell_type": "code",
     "collapsed": false,
     "input": [
      "m,r,v=inic(40,400,0.5,m)"
     ],
     "language": "python",
     "metadata": {},
     "outputs": [
      {
       "metadata": {},
       "output_type": "pyout",
       "prompt_number": 8,
       "text": [
        "([1.0,1.0,1.0,1.0,1.0],[87.8766,185.556,17.4774,-26.9109,-197.296,256.833,83.3134,234.341,16.8654,-205.194,-105.091,226.534,343.829,-139.406,-95.4896],[-9.69314e-9,1.4158e-8,8.1345e-11,7.982e-9,-6.63552e-9,-4.25161e-9,2.07103e-9,-1.54285e-8,-1.47967e-8,-8.47986e-9,-5.23862e-10,1.58538e-8,1.14291e-8,1.53719e-8,3.26329e-10])"
       ]
      }
     ],
     "prompt_number": 8
    },
    {
     "cell_type": "heading",
     "level": 2,
     "metadata": {},
     "source": [
      "2. Metodo de Taylor"
     ]
    },
    {
     "cell_type": "code",
     "collapsed": false,
     "input": [
      "using TaylorSeries"
     ],
     "language": "python",
     "metadata": {},
     "outputs": [],
     "prompt_number": 9
    },
    {
     "cell_type": "code",
     "collapsed": false,
     "input": [
      "# Par\u00e1metros para el integrador de Taylor\n",
      "const ordenTaylor = 10\n",
      "const epsAbs = 1.0e-10\n",
      "const hm=3.14e10"
     ],
     "language": "python",
     "metadata": {},
     "outputs": [
      {
       "metadata": {},
       "output_type": "pyout",
       "prompt_number": 10,
       "text": [
        "3.14e10"
       ]
      }
     ],
     "prompt_number": 10
    },
    {
     "cell_type": "code",
     "collapsed": false,
     "input": [
      "function taylorizacion{A<:Real} (r::Array{A,1},ord::Int64)\n",
      "    n=length(r)\n",
      "    rT = [ Taylor([r[i]], ord) for i=1:n ]\n",
      "    return rT\n",
      "end"
     ],
     "language": "python",
     "metadata": {},
     "outputs": [
      {
       "metadata": {},
       "output_type": "pyout",
       "prompt_number": 11,
       "text": [
        "taylorizacion (generic function with 1 method)"
       ]
      }
     ],
     "prompt_number": 11
    },
    {
     "cell_type": "markdown",
     "metadata": {},
     "source": [
      "$$0 \\rightarrow 0+h$$ ahora buscamos h\n",
      "        $$(c_{n}h^{n})< \\epsilon$$\n",
      "        $$ h\\leq(\\frac{\\epsilon}{|c_{n}|})^{(\\frac{1}{n})}$$"
     ]
    },
    {
     "cell_type": "code",
     "collapsed": false,
     "input": [
      "function timestep(r)\n",
      "\n",
      "    pot = inv(ordenTaylor)\n",
      "    h1 = (epsAbs/abs(r[end]))^pot\n",
      "    pot2 = inv(ordenTaylor-1)\n",
      "    h2 = (epsAbs/abs(r[end-1]))^pot2\n",
      "    min(h1,h2,hm)\n",
      "end"
     ],
     "language": "python",
     "metadata": {},
     "outputs": [
      {
       "metadata": {},
       "output_type": "pyout",
       "prompt_number": 12,
       "text": [
        "timestep (generic function with 1 method)"
       ]
      }
     ],
     "prompt_number": 12
    },
    {
     "cell_type": "heading",
     "level": 3,
     "metadata": {},
     "source": [
      "2.1 Calculo de fuerzas"
     ]
    },
    {
     "cell_type": "code",
     "collapsed": false,
     "input": [
      "function Fuerza (m,riT,rT,i)\n",
      "    ff=Taylor[]\n",
      "    N=length(m)\n",
      "\n",
      "    #calculo el valor de la fuerza que ejerce cada estrella en la estrella i\n",
      "    for j=1:i-1\n",
      "        r1=(rT[3j-2]-riT[1])^2\n",
      "        r2=(rT[3j-1]-riT[2])^2\n",
      "        r3=(rT[3j]-riT[3])^2\n",
      "        R=sqrt(r1+r2+r3)\n",
      "        f = G*m[j]/R^3\n",
      "        for p=1:3\n",
      "            fp = f*(rT[3j+p-3]-riT[p])\n",
      "            push!(ff, fp)\n",
      "        end\n",
      "    end\n",
      "    for j=i+1:N\n",
      "        r1=(rT[3j-2]-riT[1])^2\n",
      "        r2=(rT[3j-1]-riT[2])^2\n",
      "        r3=(rT[3j]-riT[3])^2\n",
      "        #println(r1+r2+r3)\n",
      "        R=(r1+r2+r3)^(1/2)\n",
      "        f = G*m[j]/R^3\n",
      "        for p=1:3\n",
      "            fp = f*(rT[3j+p-3]-riT[p])\n",
      "            push!(ff, fp)\n",
      "        end\n",
      "    end\n",
      "    \n",
      "    #Sumo\n",
      "    f1=0\n",
      "    f2=0\n",
      "    f3=0\n",
      "        for k=1:N-1\n",
      "            \n",
      "        f1+=ff[3k-2]\n",
      "        f2+=ff[3k-1]\n",
      "        f3+=ff[3k]\n",
      "        \n",
      "        end\n",
      "    return f1,f2,f3\n",
      "end"
     ],
     "language": "python",
     "metadata": {},
     "outputs": [
      {
       "metadata": {},
       "output_type": "pyout",
       "prompt_number": 13,
       "text": [
        "Fuerza (generic function with 1 method)"
       ]
      }
     ],
     "prompt_number": 13
    },
    {
     "cell_type": "heading",
     "level": 3,
     "metadata": {},
     "source": [
      "2.2 Avance"
     ]
    },
    {
     "cell_type": "code",
     "collapsed": false,
     "input": [
      "function avance {A<:Real}( m, rT::Array{Taylor{A},1}, vT::Array{Taylor{A},1}, f::Function)\n",
      "    N=length(m)\n",
      "    RT=Taylor[]\n",
      "    VT=Taylor[]\n",
      "    \n",
      "    ord = rT[1].order\n",
      "    #println(rT[1].order)\n",
      "    r0T=rT\n",
      "    v0T=vT\n",
      "    #println(r0T)\n",
      "    for i=1:N\n",
      "        riT=r0T[3i-2:3i]\n",
      "        viT=v0T[3i-2:3i]\n",
      "        #println(riT)\n",
      "        for k = 0:ord-1\n",
      "            knext = k+1\n",
      "             # Taylor expansions up to order k \n",
      "            rTt=Taylor[]\n",
      "            vTt=Taylor[]\n",
      "            for j=1:3N\n",
      "                rTtj= Taylor( r0T[j].coeffs[1:k+1], k)\n",
      "                vTtj= Taylor( v0T[j].coeffs[1:k+1], k)\n",
      "                push! (rTt, rTtj)\n",
      "                push! (vTt, vTtj)\n",
      "            end\n",
      "\n",
      "            riTt=rTt[3i-2:3i]\n",
      "            viTt=vTt[3i-2:3i]\n",
      "\n",
      "        # Eqs of motion \n",
      "            xiDot = viTt[1]\n",
      "            yiDot = viTt[2]\n",
      "            ziDot = viTt[3]\n",
      "            \n",
      "            vxiDot,vyiDot,vziDot = f(m,riTt,rTt,i)\n",
      "\n",
      "        # The equations of motion define the recurrencies\n",
      "            riT[1].coeffs[knext+1]  = xiDot.coeffs[knext] / knext\n",
      "            riT[2].coeffs[knext+1]  = yiDot.coeffs[knext] / knext\n",
      "            riT[3].coeffs[knext+1]  = ziDot.coeffs[knext] / knext\n",
      "            \n",
      "            viT[1].coeffs[knext+1] = vxiDot.coeffs[knext] / knext\n",
      "            viT[2].coeffs[knext+1] = vyiDot.coeffs[knext] / knext\n",
      "            viT[3].coeffs[knext+1] = vziDot.coeffs[knext] / knext\n",
      "\n",
      "            if k==ord-1\n",
      "                push! (RT, riT[1], riT[2], riT[3])\n",
      "                push! (VT, viT[1], viT[2], viT[3])\n",
      "            end\n",
      "        end\n",
      "    end\n",
      "    \n",
      "    return RT, VT\n",
      "end"
     ],
     "language": "python",
     "metadata": {},
     "outputs": [
      {
       "metadata": {},
       "output_type": "pyout",
       "prompt_number": 14,
       "text": [
        "avance (generic function with 1 method)"
       ]
      }
     ],
     "prompt_number": 14
    },
    {
     "cell_type": "code",
     "collapsed": false,
     "input": [
      "function taylorStepper{A<:Real}(avance::Function, taylorizacion::Function,\n",
      "    m::Array{A,1}, r::Array{A,1}, v::Array{A,1}, f::Function, timestep::Function, order::Int64)\n",
      "    \n",
      "    N = length( r )\n",
      "    r0 = zeros(15)\n",
      "    v0= zeros(15)\n",
      "    rT = taylorizacion(r,order)\n",
      "    vT = taylorizacion(v,order)\n",
      "    \n",
      "    RT,VT = avance(m,rT,vT,Fuerza)\n",
      "\n",
      "    # Step-size\n",
      "    hh = Inf\n",
      "    for i=1:N\n",
      "        h1 = timestep(RT[i].coeffs)\n",
      "        hh = min( hh, h1 )\n",
      "    end\n",
      "\n",
      "    #hh = hh*0.125\n",
      "    #println(RT[1])\n",
      "    #println(RT[4])\n",
      "    # Values at t0+h\n",
      "    for i=1:N\n",
      "        r0[i] = evalTaylor( RT[i], hh )\n",
      "    end\n",
      "    \n",
      "    # Values at t0+h\n",
      "    for i=1:N\n",
      "        v0[i] = evalTaylor( VT[i], hh )\n",
      "    end\n",
      "    \n",
      "    return hh, r0, v0\n",
      "end"
     ],
     "language": "python",
     "metadata": {},
     "outputs": [
      {
       "metadata": {},
       "output_type": "pyout",
       "prompt_number": 15,
       "text": [
        "taylorStepper (generic function with 1 method)"
       ]
      }
     ],
     "prompt_number": 15
    },
    {
     "cell_type": "code",
     "collapsed": false,
     "input": [
      "taylorStepper(avance,taylorizacion,m,r,v,Fuerza,timestep,10)"
     ],
     "language": "python",
     "metadata": {},
     "outputs": [
      {
       "metadata": {},
       "output_type": "pyout",
       "prompt_number": 16,
       "text": [
        "(8.067830789332299e7,[87.0897,186.751,17.4837,-26.269,-197.829,256.489,83.4853,233.04,15.6731,-205.875,-105.134,227.813,344.749,-138.165,-95.4625],[-9.81323e-9,1.54816e-8,7.37179e-11,7.92922e-9,-6.57637e-9,-4.28472e-9,2.18821e-9,-1.68547e-8,-1.47526e-8,-8.38832e-9,-5.4087e-10,1.58486e-8,1.13952e-8,1.53956e-8,3.46549e-10])"
       ]
      }
     ],
     "prompt_number": 16
    },
    {
     "cell_type": "heading",
     "level": 3,
     "metadata": {},
     "source": [
      "2.3 Integrador"
     ]
    },
    {
     "cell_type": "heading",
     "level": 4,
     "metadata": {},
     "source": [
      "2.3.1 con graficador"
     ]
    },
    {
     "cell_type": "code",
     "collapsed": false,
     "input": [
      "#Con posibilidad de graficar\n",
      "function integrar(m,r,v,tm::Float64,orden::Int64)\n",
      "    t0=0\n",
      "    r0=r\n",
      "    v0=v\n",
      "    tV=Float64[]\n",
      "    rV=Array{Float64}[]\n",
      "    vV=Array{Float64}[]\n",
      "    \n",
      "    # paso minimo\n",
      "    dt = 3.15e7\n",
      "    i=1\n",
      "    while t0 < tm && dt>3.15\n",
      "        dt, r1, v1 = taylorStepper(avance, taylorizacion,\n",
      "        m, r, v, Fuerza, timestep, orden)\n",
      "        t0 += dt\n",
      "        if mod(i,100)==0\n",
      "                push!(tV,t0)\n",
      "                push!(rV,r1)\n",
      "                push!(vV,v1)\n",
      "            end \n",
      "        r0, v0 = r1, v1\n",
      "        i+=1\n",
      "    end\n",
      "\n",
      "    return tV, hcat(rV...)', hcat(vV...)'\n",
      "end"
     ],
     "language": "python",
     "metadata": {},
     "outputs": [
      {
       "metadata": {},
       "output_type": "pyout",
       "prompt_number": 17,
       "text": [
        "integrar (generic function with 1 method)"
       ]
      }
     ],
     "prompt_number": 17
    },
    {
     "cell_type": "code",
     "collapsed": false,
     "input": [
      "using PyPlot"
     ],
     "language": "python",
     "metadata": {},
     "outputs": [
      {
       "output_type": "stream",
       "stream": "stderr",
       "text": [
        "INFO: Loading help data...\n"
       ]
      }
     ],
     "prompt_number": 18
    },
    {
     "cell_type": "code",
     "collapsed": false,
     "input": [
      "function graficadora_cuerposXY(m,r,v,tm,ord)\n",
      "    T,Q,DQ=integrar(m,r,v,tm,ord)\n",
      "    N=length(m)\n",
      "    for i=1:N\n",
      "            x=3i-2\n",
      "            y=3i-1\n",
      "        plot(Q[:,x],Q[:,y],\"-\",label=\"Estella $i\")\n",
      "    end\n",
      "    xlabel(L\"$x$\")\n",
      "    ylabel(L\"$y$\")\n",
      "    title(\"Movimiento de $(length(m)) cuerpos\")\n",
      "    axis(\"equal\")\n",
      "    legend(loc=0,fontsize=10)\n",
      "end"
     ],
     "language": "python",
     "metadata": {},
     "outputs": [
      {
       "metadata": {},
       "output_type": "pyout",
       "prompt_number": 19,
       "text": [
        "graficadora_cuerposXY (generic function with 1 method)"
       ]
      }
     ],
     "prompt_number": 19
    },
    {
     "cell_type": "heading",
     "level": 4,
     "metadata": {},
     "source": [
      "2.3.2 Sencillo"
     ]
    },
    {
     "cell_type": "code",
     "collapsed": false,
     "input": [
      "#Solo devuelve el ultimo valor de la integracion\n",
      "function integrar1(m,r,v,tm::Float64,orden::Int64)\n",
      "    \n",
      "    t0=0\n",
      "    r0=r\n",
      "    v0=v\n",
      "    dt = 3.1e7\n",
      "    while t0 < tm && dt>3.1\n",
      "        dt, r1, v1 = taylorStepper(avance, taylorizacion,\n",
      "        m, r, v, Fuerza, timestep, orden)\n",
      "        t0 += dt\n",
      "        r0, v0 = r1, v1\n",
      "        #println(t0)\n",
      "        #println(dt)\n",
      "    end\n",
      "\n",
      "    return r0, v0\n",
      "end"
     ],
     "language": "python",
     "metadata": {},
     "outputs": [
      {
       "metadata": {},
       "output_type": "pyout",
       "prompt_number": 20,
       "text": [
        "integrar1 (generic function with 1 method)"
       ]
      }
     ],
     "prompt_number": 20
    },
    {
     "cell_type": "code",
     "collapsed": false,
     "input": [
      "integrar1(m,r,v,3.15e13,18)"
     ],
     "language": "python",
     "metadata": {},
     "outputs": [
      {
       "metadata": {},
       "output_type": "pyout",
       "prompt_number": 114,
       "text": [
        "([26725.9,-8044.16,27584.5,981539.0,-2.49525e6,-3.83789e6,-227.365,303.51,-865.368,7.76223e12,9.1004e13,-1.49816e14,-6.2127e13,-5.01278e13,-1.58553e13],[-1.87918e-5,-2.2056e-5,-2.82315e-5,0.00117326,-0.00307097,-0.00452023,-4.69527e-7,1.70982e-7,-1.37545e-6,-35956.6,-332114.0,549804.0,219944.0,79614.5,141590.0])"
       ]
      }
     ],
     "prompt_number": 114
    },
    {
     "cell_type": "code",
     "collapsed": false,
     "input": [
      "r, v"
     ],
     "language": "python",
     "metadata": {},
     "outputs": [
      {
       "metadata": {},
       "output_type": "pyout",
       "prompt_number": 115,
       "text": [
        "([51.3299,78.2784,251.528,42.4335,-264.465,209.827,-88.5838,49.5114,-252.283,173.952,-323.189,38.9831,131.665,-256.133,-62.1582],[1.39179e-8,7.2804e-9,1.47544e-8,4.63878e-9,-2.41187e-9,-2.65806e-11,-4.96158e-9,6.33849e-9,3.67386e-9,5.75135e-9,-5.75104e-9,1.12414e-8,-1.55484e-8,-1.44261e-8,-3.10197e-9])"
       ]
      }
     ],
     "prompt_number": 115
    },
    {
     "cell_type": "heading",
     "level": 2,
     "metadata": {},
     "source": [
      "3. Determinacion de binarias"
     ]
    },
    {
     "cell_type": "markdown",
     "metadata": {},
     "source": [
      "Se calculan las distancias y las energias entre pares de cuerpos, observando el signo de la energia \n",
      "observaremos si se trata de sistemas ligados, binarias, o libres."
     ]
    },
    {
     "cell_type": "code",
     "collapsed": false,
     "input": [
      "function evalf2 (R0,R1,Q,m,tf,orden)\n",
      "    N=length(m)\n",
      "    D=zeros(N,N)\n",
      "    E=zeros(N,N)\n",
      "    m,r,v=inic(R0,R1,Q,m)\n",
      "    r0, v0=integrar1(m,r,v,tf,orden)\n",
      "    for i=1:N\n",
      "        for j=1:(i-1)\n",
      "            D[i,j]=sqrt((r0[3i-2]-r0[3j-2])^2+(r0[3i-1]-r0[3j-1])^2+(r0[3i]-r0[3j])^2)\n",
      "            Vi=sqrt((v0[3i-2])^2+(v0[3i-1])^2+(v0[3i])^2)\n",
      "            Vj=sqrt((v0[3j-2])^2+(v0[3j-1])^2+(v0[3j])^2)\n",
      "            Vcm=(m[i]*Vi+m[j]*Vj)/(m[i]+m[j])\n",
      "            E[i,j]=(m[i]*(Vi-Vcm)^2+m[j]*(Vj-Vcm)^2)/2-(G*m[j]*m[i])/D[i,j]\n",
      "            #push! (E, Eij)\n",
      "            #push! (D, d)\n",
      "        end\n",
      "    end\n",
      "    return E, D, r,v\n",
      "end"
     ],
     "language": "python",
     "metadata": {},
     "outputs": [
      {
       "metadata": {},
       "output_type": "pyout",
       "prompt_number": 21,
       "text": [
        "evalf2 (generic function with 1 method)"
       ]
      }
     ],
     "prompt_number": 21
    },
    {
     "cell_type": "code",
     "collapsed": false,
     "input": [
      "evalf2(40,400,0.5,m,3.15e13,18)"
     ],
     "language": "python",
     "metadata": {},
     "outputs": [
      {
       "metadata": {},
       "output_type": "pyout",
       "prompt_number": 118,
       "text": [
        "(\n",
        "5x5 Array{Float64,2}:\n",
        "     0.0              0.0          0.0    0.0    0.0\n",
        "    10.0369           0.0          0.0    0.0    0.0\n",
        " 53996.2          52533.9          0.0    0.0    0.0\n",
        "     0.000113116      9.96967  53991.3    0.0    0.0\n",
        "   574.511          432.675    43431.4  574.001  0.0,\n",
        "\n",
        "5x5 Array{Float64,2}:\n",
        " 0.0         0.0         0.0         0.0         0.0\n",
        " 3.56717e9   0.0         0.0         0.0         0.0\n",
        " 1.95615e11  1.94089e11  0.0         0.0         0.0\n",
        " 1.01378e7   3.57221e9   1.95611e11  0.0         0.0\n",
        " 2.28464e10  2.60411e10  2.08179e11  2.28403e10  0.0,\n",
        "\n",
        "[215.173,157.846,-270.715,5.87884,-35.6731,366.746,91.3586,-104.126,225.635,-111.943,209.02,-115.217,-83.9753,-162.953,216.849],[5.67546e-9,-4.27765e-10,-2.35894e-9,8.22943e-9,9.62672e-9,-1.45152e-8,-6.05671e-9,-5.55489e-9,-3.48454e-10,-9.09458e-9,-1.38221e-8,-1.4976e-8,-7.72714e-9,1.05366e-8,1.14177e-8])"
       ]
      }
     ],
     "prompt_number": 118
    },
    {
     "cell_type": "code",
     "collapsed": false,
     "input": [
      "function graficadora_cuerposXY2(R0,R1,Q,m,tf,orden)\n",
      "    E,D,r,v=evalf2(R0,R1,Q,m,tf,orden)\n",
      "    T,R,V=integrar(m,r,v,tf,orden)\n",
      "    N=length(m)\n",
      "    for i=1:N\n",
      "        for j=1:i-1\n",
      "        if E[i,j]>0\n",
      "            println(\"no binaria\")\n",
      "        else\n",
      "                println(D[i,j])\n",
      "                x1=3i-2\n",
      "                y1=3i-1\n",
      "                plot(R[:,x1],R[:,y1],\"-\",label=\"Estrella $i \")\n",
      "                \n",
      "                x2=3j-2\n",
      "                y2=3j-1\n",
      "                plot(R[:,x2],R[:,y2],\"-\",label=\"Estrella $j \")\n",
      "                \n",
      "                xlabel(L\"$x$\")\n",
      "                ylabel(L\"$y$\")\n",
      "                title(\"Movimiento de binaria $i $j\")\n",
      "                ylim( [R[1,y1],R[end,y1]] )\n",
      "                xlim(R[1,x1],R[end,x1])\n",
      "                legend(loc=0,fontsize=10)\n",
      "        end\n",
      "    end\n",
      "    end\n",
      "    \n",
      "\n",
      "end"
     ],
     "language": "python",
     "metadata": {},
     "outputs": [
      {
       "metadata": {},
       "output_type": "pyout",
       "prompt_number": 22,
       "text": [
        "graficadora_cuerposXY2 (generic function with 1 method)"
       ]
      }
     ],
     "prompt_number": 22
    },
    {
     "cell_type": "heading",
     "level": 2,
     "metadata": {},
     "source": [
      "4. Resultados"
     ]
    },
    {
     "cell_type": "heading",
     "level": 4,
     "metadata": {},
     "source": [
      "Graficas"
     ]
    },
    {
     "cell_type": "code",
     "collapsed": false,
     "input": [
      "graficadora_cuerposXY2(40,400,0.5,m,3.15e13,18)"
     ],
     "language": "python",
     "metadata": {},
     "outputs": [
      {
       "output_type": "stream",
       "stream": "stdout",
       "text": [
        "no binaria\n"
       ]
      },
      {
       "output_type": "stream",
       "stream": "stdout",
       "text": [
        "no binaria\n",
        "no binaria\n",
        "no binaria\n",
        "no binaria\n",
        "no binaria\n",
        "no binaria\n",
        "no binaria\n",
        "no binaria\n",
        "no binaria\n"
       ]
      }
     ],
     "prompt_number": 25
    },
    {
     "cell_type": "markdown",
     "metadata": {},
     "source": [
      "<img src=\"files/binaria.png\">\n",
      "<img src=\"files/triple.png\">\n",
      "<img src=\"files/binaria2.png\">"
     ]
    },
    {
     "cell_type": "heading",
     "level": 4,
     "metadata": {},
     "source": [
      "Resultados cuantitativos"
     ]
    },
    {
     "cell_type": "markdown",
     "metadata": {},
     "source": [
      "Se hicieron 100 corridas integrando un tiempo de 1e6 anios, considerando masas identicas de una masa solar y un coeficiente virial de 0.5, y se anotaron las distancias entre los pares de estrellas \n",
      "con energia negativa."
     ]
    },
    {
     "cell_type": "markdown",
     "metadata": {},
     "source": [
      "Se obtuvieron un total de 47 sistemas binarios, 3 sistemas triples y un sistema de 4 estrellas ligadas.\n",
      "$$ $$\n",
      "Los sitemas binarios con una separacion mayor a 2e5 AU (13 casos) no se tomaron en cuenta  \n",
      "siendo esta la distancia tipica entre estrellas en la galaxia y por lo tanto tendran muy probablemente interacciones con otras estellas y se rompera el sistema ligado.\n",
      "$$ $$\n",
      "Entre 1600 y 1e5 solo se encontraron 7 casos.\n",
      "$$ $$\n",
      "Para los 27 casos restantes entre 100 y 1600 AU se presenta el siguiente histrograma con la distribucion de las distancias."
     ]
    },
    {
     "cell_type": "markdown",
     "metadata": {},
     "source": [
      "<img src=\"files/hist2.png\">"
     ]
    },
    {
     "cell_type": "markdown",
     "metadata": {},
     "source": [
      "De THE EVOLUTION OF THE MULTIPLICITY OF EMBEDDED PROTOSTARS. II. BINARY SEPARATION DISTRIBUTION AND ANALYSIS, Michael S. Connelley, Bo Reipurth , and Alan T. Tokunaga tenemos la siguiente distribucion observacional:\n",
      "<img src=\"files/hist.png\">"
     ]
    },
    {
     "cell_type": "markdown",
     "metadata": {},
     "source": [
      "Podemos ver que las distancias obtenidas en nuestra simulacion concuerdan relativamente bien con los resultados observacionales presentados por Connelley et al."
     ]
    },
    {
     "cell_type": "heading",
     "level": 3,
     "metadata": {},
     "source": [
      "Posibles implementaciones a futuro"
     ]
    },
    {
     "cell_type": "markdown",
     "metadata": {},
     "source": [
      "Plantear el problema con otra contidad de cuerpos (entre 2 y 10).\n",
      "\n",
      "Estudiar tambien, no solo la distribucion de las distancias, si no tambien la distribucion de la elipticidad.\n",
      "\n",
      "Introducir en las condiciones iniciales la receta de crecimiento de masas estelar en una nube molecular y el potencial de la nube, para observar los efectos de esto en la formacion de sistemas binarios.\n",
      "\n"
     ]
    },
    {
     "cell_type": "code",
     "collapsed": false,
     "input": [],
     "language": "python",
     "metadata": {},
     "outputs": []
    }
   ],
   "metadata": {}
  }
 ]
}