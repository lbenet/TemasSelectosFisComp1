{
 "metadata": {
  "language": "Julia",
  "name": "",
  "signature": "sha256:b0c0b4dc4b405591c48e0f52fe02cfa5295fb831bf9b9a6a28820d5bb242c3a4"
 },
 "nbformat": 3,
 "nbformat_minor": 0,
 "worksheets": [
  {
   "cells": [
    {
     "cell_type": "heading",
     "level": 1,
     "metadata": {},
     "source": [
      "Introducci\u00f3n "
     ]
    },
    {
     "cell_type": "markdown",
     "metadata": {},
     "source": [
      "(Muy breve)"
     ]
    },
    {
     "cell_type": "markdown",
     "metadata": {},
     "source": [
      "La corriente i\u00f3nica es la suma de las corrientes que transitan por cada canal, suma a la que contribuyen los canales de sodio $I_{Na}$, los de potasio $I_{K}$ y  la llamada corriente de filtraci\u00f3n $I_{L}$, la cual se asocia con la permeabilidad natural y permanente de la membrana y con otros tipos de canales i\u00f3nicos no considerados expl\u00edcitamente.  \n",
      "\n",
      "Acudiendo a la ley de Ohm, podemos describir a cada corriente i\u00f3nica en t\u00e9rminos del voltaje $V$ dado por el potencial intracelular, el voltaje umbral $E$ el cual depende del tipo de canal y de la conductancia de la membrana $g$. \n",
      "\n",
      "\\begin{equation}\n",
      "C_{m}\\dfrac{dV}{dt}= I_{ext}-g_{Na}(V-E_{Na})-g_{K}(V-E_{K})-g_{L}(V-E_{L})\n",
      "\\end{equation}\n",
      "\n",
      "Una hip\u00f3tesis clave del modelo de Hodgkin y Huxley es la de considerar a la conductancia $g$ no como un objeto est\u00e1tico sino como uno que es susceptible de cambiar sus propiedades a trav\u00e9s del tiempo. La membrana, como hemos mencionado, tiene diferentes tipos de canales que a su vez tienen diferentes clases de puertas $n$, $m$ y $h$, estas puertas tienen mayor o menor probabilidad de ser abiertas dependiendo del tiempo y el voltaje inicial, seg\u00fan se hall\u00f3 experimentalmente. Lo que  nos lleva a reescribir la segunda ecuaci\u00f3n de la siguiente manera:\n",
      "\n",
      "\\begin{equation}\n",
      "\\dfrac{dV}{dt}= \\dfrac{1 }{C_{m}}[ I_{ext}-G_{Na}m^{3}h(V-E_{Na})-G_{K}n^4(V-E_{K})-G_{L}(V-E_{L})] \n",
      "\\end{equation}\n",
      "\n",
      "Donde $G_{Na}$, $ G_{Na}$ y $ G_{Na}$ representan la m\u00e1xima conductancia ya normalizada y $n$, $m$ y $h$ la probabilidad de que sea abierta cada tipo de puerta. Probabilidad cuyo cambio en el tiempo queda descrito por:\n",
      "\n",
      "\\begin{equation}\n",
      "\\dfrac{dn}{dt}= \\alpha_{n}(V) (1-n) \u2013 \\beta_{n}(V) \n",
      "\\end{equation}\n",
      "\n",
      "\n",
      "\\begin{equation}\n",
      "\\dfrac{dm}{dt}= \\alpha_{m}(V) (1-m) \u2013 \\beta_{m}(V) \n",
      "\\end{equation}\n",
      "\n",
      "\n",
      "\\begin{equation}\n",
      "\\dfrac{dh}{dt}= \\alpha_{h}(V) (1-h) \u2013 \\beta_{h}(V) \n",
      "\\end{equation}\n",
      "\n",
      "Donde $\\alpha$ y $\\beta$ son las tasas que describen los estados permisivos y no permisivos de las puertas, fueron elegidas con base en los datos experimentales."
     ]
    },
    {
     "cell_type": "heading",
     "level": 2,
     "metadata": {},
     "source": [
      "Constantes y funciones auxiliares"
     ]
    },
    {
     "cell_type": "heading",
     "level": 4,
     "metadata": {},
     "source": [
      "Capacitancia de la membrana"
     ]
    },
    {
     "cell_type": "markdown",
     "metadata": {},
     "source": [
      "\\begin{equation}\n",
      "C_{m}= 0.01 \\mu F /cm^{2}\n",
      "\\end{equation}"
     ]
    },
    {
     "cell_type": "code",
     "collapsed": false,
     "input": [
      "CM=0.01;"
     ],
     "language": "python",
     "metadata": {},
     "outputs": [],
     "prompt_number": 1
    },
    {
     "cell_type": "heading",
     "level": 4,
     "metadata": {},
     "source": [
      "Potencial de Nernst"
     ]
    },
    {
     "cell_type": "markdown",
     "metadata": {},
     "source": [
      "\\begin{equation}\n",
      "E_{Na}= 55.17 mV\n",
      "\\end{equation}\n",
      "\n",
      "\n",
      "\\begin{equation}\n",
      "E_{K}= -72.14 mV\n",
      "\\end{equation}\n",
      "\n",
      "\n",
      "\\begin{equation}\n",
      "E_{L}= -49.42 mV\n",
      "\\end{equation}"
     ]
    },
    {
     "cell_type": "code",
     "collapsed": false,
     "input": [
      "VN=55.17;\n",
      "VK=-72.14;\n",
      "Vl=-49.42;"
     ],
     "language": "python",
     "metadata": {},
     "outputs": [],
     "prompt_number": 2
    },
    {
     "cell_type": "heading",
     "level": 4,
     "metadata": {},
     "source": [
      "Conductancia m\u00e1xima por unidad de \u00e1rea"
     ]
    },
    {
     "cell_type": "markdown",
     "metadata": {},
     "source": [
      "\\begin{equation}\n",
      "G_{Na}= 1.2 mS/cm^{2}\n",
      "\\end{equation}\n",
      "\n",
      "\n",
      "\\begin{equation}\n",
      "G_{K}= 0.36 mS/cm^{2}\n",
      "\\end{equation}\n",
      "\n",
      "\n",
      "\\begin{equation}\n",
      "G_{K}= 0.003 mS/cm^{2}\n",
      "\\end{equation}"
     ]
    },
    {
     "cell_type": "code",
     "collapsed": false,
     "input": [
      "gN=1.2;\n",
      "gK=0.36;\n",
      "gl=0.003;"
     ],
     "language": "python",
     "metadata": {},
     "outputs": [],
     "prompt_number": 3
    },
    {
     "cell_type": "heading",
     "level": 4,
     "metadata": {},
     "source": [
      "Velocidad de propagaci\u00f3n"
     ]
    },
    {
     "cell_type": "code",
     "collapsed": false,
     "input": [
      "Vel=1;"
     ],
     "language": "python",
     "metadata": {},
     "outputs": [],
     "prompt_number": 4
    },
    {
     "cell_type": "heading",
     "level": 4,
     "metadata": {},
     "source": [
      "Funciones Auxiliares"
     ]
    },
    {
     "cell_type": "code",
     "collapsed": false,
     "input": [
      "function fact(i)\n",
      "    fac=1\n",
      "    for n = 1:i\n",
      "        fac*=n\n",
      "    end\n",
      "    return fac\n",
      "end;"
     ],
     "language": "python",
     "metadata": {},
     "outputs": [],
     "prompt_number": 5
    },
    {
     "cell_type": "heading",
     "level": 2,
     "metadata": {},
     "source": [
      "Canales: Activaci\u00f3n e Inactivaci\u00f3n"
     ]
    },
    {
     "cell_type": "heading",
     "level": 4,
     "metadata": {},
     "source": [
      "Potasio (Activaci\u00f3n)"
     ]
    },
    {
     "cell_type": "markdown",
     "metadata": {},
     "source": [
      "\\begin{equation}\n",
      "\\dfrac{dn}{dt}= \\alpha_{n}(V) (1-n) \u2013 \\beta_{n}(V) \n",
      "\\end{equation}\n",
      "\n",
      "\n",
      "\\begin{equation}\n",
      "\\alpha_{n}= \\dfrac{0.01(V+50}{1-exp(\\dfrac{-50-v}{10})}\n",
      "\\end{equation}\n",
      "\n",
      "\n",
      "\\begin{equation}\n",
      "\\beta_{n}= 0.125 exp(\\dfrac{-60-v}{80})\n",
      "\\end{equation}"
     ]
    },
    {
     "cell_type": "code",
     "collapsed": false,
     "input": [
      "function Anp(x)\n",
      "    Anpot=0.01*(x+50.0)/(1.0-exp(-(x+50.0)/10))\n",
      "    return Anpot\n",
      "end;\n",
      "\n",
      "function Bnp(x)\n",
      "    Bnpot=0.125*exp(-(x+60.0)/80.0)\n",
      "    return Bnpot\n",
      "end;\n",
      "\n",
      "function dn(V,n)\n",
      "    dnp=Anp(V)*(1-n)-Bnp(V)*(n)\n",
      "    return dnp\n",
      "end;\n",
      "\n",
      "function Ninf(x)\n",
      "    ninf=Anp(x)/(Anp(x)+Bnp(x))\n",
      "    return ninf\n",
      "end;    "
     ],
     "language": "python",
     "metadata": {},
     "outputs": [],
     "prompt_number": 6
    },
    {
     "cell_type": "code",
     "collapsed": false,
     "input": [
      "function SumPicardn(n,s,o)\n",
      "    Pcdn=0\n",
      "    for i= 1:o\n",
      "        Pcdn+=((-s)^(i))/fact(i)\n",
      "    end\n",
      "    return Pcdn\n",
      "end;\n",
      "\n",
      "function PolPicardn(V,n,s,o)\n",
      "    PolPicn=n-dn(V,n)*SumPicardn(n,s,o)\n",
      "    return PolPicn\n",
      "end;"
     ],
     "language": "python",
     "metadata": {},
     "outputs": [],
     "prompt_number": 7
    },
    {
     "cell_type": "heading",
     "level": 4,
     "metadata": {},
     "source": [
      "Sodio (Activaci\u00f3n)"
     ]
    },
    {
     "cell_type": "markdown",
     "metadata": {},
     "source": [
      "\\begin{equation}\n",
      "\\dfrac{dm}{dt}= \\alpha_{m}(V) (1-m) \u2013 \\beta_{m}(V) \n",
      "\\end{equation}\n",
      "\n",
      "\n",
      "\\begin{equation}\n",
      "\\alpha_{m}= \\dfrac{0.01(V+35}{1-exp(\\dfrac{-35-v}{10})}\n",
      "\\end{equation}\n",
      "\n",
      "\n",
      "\\begin{equation}\n",
      "\\beta_{m}= 4.0 exp(-0.00556(v+60))\n",
      "\\end{equation}"
     ]
    },
    {
     "cell_type": "code",
     "collapsed": false,
     "input": [
      "function Ams(x)\n",
      "    Amsod=0.1*(x+35.0)/(1.0-exp(-(x+35.0)/10))\n",
      "    return Amsod\n",
      "end;\n",
      "\n",
      "function Bms(x)\n",
      "    Bmsod=4.0*exp(-0.0556*(x+60.0))\n",
      "    return Bmsod\n",
      "end;\n",
      "\n",
      "function dm(V,m)\n",
      "    dms=Ams(V)*(1-m)-Bms(V)*(m)\n",
      "    return dms\n",
      "end;\n",
      "\n",
      "function Minf(x)\n",
      "    minf=Ams(x)/(Ams(x)+Bms(x))\n",
      "    return minf\n",
      "end;    "
     ],
     "language": "python",
     "metadata": {},
     "outputs": [],
     "prompt_number": 8
    },
    {
     "cell_type": "code",
     "collapsed": false,
     "input": [
      "function SumPicardm(m,s,o)\n",
      "    Pcdm=0\n",
      "    for i= 1:o\n",
      "        Pcdm+=((-s)^(i))/fact(i)\n",
      "    end\n",
      "    return Pcdm\n",
      "end;\n",
      "\n",
      "function PolPicardm(V,m,s,o)\n",
      "    PolPicm=m-dm(V,m)*SumPicardm(m,s,o)\n",
      "    return PolPicm\n",
      "end;"
     ],
     "language": "python",
     "metadata": {},
     "outputs": [],
     "prompt_number": 9
    },
    {
     "cell_type": "heading",
     "level": 4,
     "metadata": {},
     "source": [
      "Sodio (Inactivaci\u00f3n)"
     ]
    },
    {
     "cell_type": "markdown",
     "metadata": {},
     "source": [
      "\\begin{equation}\n",
      "\\dfrac{dh}{dt}= \\alpha_{h}(V) (1-h) \u2013 \\beta_{h}(V) \n",
      "\\end{equation}\n",
      "\n",
      "\n",
      "\\begin{equation}\n",
      "\\alpha_{h}= 0.07 exp(-0.05(v+60))\n",
      "\\end{equation}\n",
      "\n",
      "\n",
      "\\begin{equation}\n",
      "\\beta_{h}=\\dfrac {1}{exp(-0.01(v+30))+1.0}\n",
      "\\end{equation}"
     ]
    },
    {
     "cell_type": "code",
     "collapsed": false,
     "input": [
      "function Ahs(x)\n",
      "    Ahsod=0.07*exp(-0.05*(x+60.0))\n",
      "    return Ahsod\n",
      "end;\n",
      "\n",
      "function Bhs(x)\n",
      "    Bhsod=1.0/(exp(-0.1*(x+30.0))+1.0)\n",
      "    return Bhsod\n",
      "end;\n",
      "\n",
      "function dh(V,h)\n",
      "    dhs=Ahs(V)*(1-h)-Bhs(V)*(h)\n",
      "    return dhs\n",
      "end;\n",
      "\n",
      "function Hinf(x)\n",
      "    hinf=Ahs(x)/(Ahs(x)+Bhs(x))\n",
      "    return hinf\n",
      "end; "
     ],
     "language": "python",
     "metadata": {},
     "outputs": [],
     "prompt_number": 10
    },
    {
     "cell_type": "code",
     "collapsed": false,
     "input": [
      "function SumPicardh(h,s,o)\n",
      "    Pcdh=0\n",
      "    for i= 1:o\n",
      "        Pcdh+=((-s)^(i))/fact(i)\n",
      "    end\n",
      "    return Pcdh\n",
      "end;\n",
      "\n",
      "function PolPicardh(V,h,s,o)\n",
      "    PolPich=h-dh(V,h)*SumPicardh(h,s,o)\n",
      "    return PolPich\n",
      "end;"
     ],
     "language": "python",
     "metadata": {},
     "outputs": [],
     "prompt_number": 11
    },
    {
     "cell_type": "heading",
     "level": 2,
     "metadata": {},
     "source": [
      "Modelo: Cambio en el voltaje"
     ]
    },
    {
     "cell_type": "markdown",
     "metadata": {},
     "source": [
      "\\begin{equation}\n",
      "\\dfrac{dV}{dt}= \\dfrac{1 }{C_{m}}[ I_{ext}-G_{Na}m^{3}h(V-E_{Na})-G_{K}n^4(V-E_{K})-G_{L}(V-E_{L})] \n",
      "\\end{equation}"
     ]
    },
    {
     "cell_type": "code",
     "collapsed": false,
     "input": [
      "function dV(V,n,m,h)\n",
      "    dv=(-(gK*(n^4)*(V-VK))-(gN*(m^3)*(h)*(V-VN))-(gl*(V-Vl)))/CM\n",
      "    return dv\n",
      "end;"
     ],
     "language": "python",
     "metadata": {},
     "outputs": [],
     "prompt_number": 12
    },
    {
     "cell_type": "code",
     "collapsed": false,
     "input": [
      "function SumPicardV(n,m,h,s,o)\n",
      "    PcdV=0\n",
      "    Kas=gK*(n^4)+gN*(m^3)*(h)+gl\n",
      "    for i= 1:o\n",
      "        PcdV+=((Kas*s/CM)^i)*((-1)^(i-1))/fact(i)\n",
      "    end\n",
      "    return PcdV\n",
      "end;\n",
      "\n",
      "function PolPicardV(V,n,m,h,s,o)\n",
      "    PolPicV=V+(dV(V,n,m,h))*SumPicardV(n,m,h,s,o)\n",
      "    return PolPicV\n",
      "end;"
     ],
     "language": "python",
     "metadata": {},
     "outputs": [],
     "prompt_number": 13
    },
    {
     "cell_type": "heading",
     "level": 4,
     "metadata": {},
     "source": [
      "Condiciones Iniciales"
     ]
    },
    {
     "cell_type": "code",
     "collapsed": false,
     "input": [
      "V0=-60.0471;\n",
      "t0=0.0;\n",
      "x0=0.0;\n",
      "VV=[V0];\n",
      "Vt=[t0];\n",
      "Vx=[x0];"
     ],
     "language": "python",
     "metadata": {},
     "outputs": [],
     "prompt_number": 14
    },
    {
     "cell_type": "heading",
     "level": 4,
     "metadata": {},
     "source": [
      "Pulsos"
     ]
    },
    {
     "cell_type": "code",
     "collapsed": false,
     "input": [
      "function Pulso(t,a)\n",
      "    if 5.0<t<5.0001 && a==1\n",
      "        pul=10.0\n",
      "    else\n",
      "        pul=0.0\n",
      "    end\n",
      "return pul\n",
      "end;"
     ],
     "language": "python",
     "metadata": {},
     "outputs": [],
     "prompt_number": 15
    },
    {
     "cell_type": "code",
     "collapsed": false,
     "input": [
      "function Pulso2(t,b)\n",
      "    if 15.0<t<15.0001 && b==1\n",
      "        pul=20.0\n",
      "    else\n",
      "        pul=0.0\n",
      "    end\n",
      "return pul\n",
      "end;"
     ],
     "language": "python",
     "metadata": {},
     "outputs": [],
     "prompt_number": 16
    },
    {
     "cell_type": "code",
     "collapsed": false,
     "input": [
      "function Pulso3(t,c)\n",
      "    if 35.0<t<35.0001 && c==1\n",
      "        pul=10.0\n",
      "    else\n",
      "        pul=0.0\n",
      "    end\n",
      "return pul\n",
      "end;"
     ],
     "language": "python",
     "metadata": {},
     "outputs": [],
     "prompt_number": 17
    },
    {
     "cell_type": "heading",
     "level": 4,
     "metadata": {},
     "source": [
      "Integrador: Constructor del potencial"
     ]
    },
    {
     "cell_type": "code",
     "collapsed": false,
     "input": [
      "function HH(p,s,o,a,b,c)\n",
      "    time=t0;\n",
      "    Vold=V0;\n",
      "    nold=Ninf(Vold);\n",
      "    mold=Minf(Vold);\n",
      "    hold=Hinf(Vold);\n",
      "    for i = 1:p\n",
      "        Vnew=PolPicardV(Vold,nold,mold,hold,s,o)+Pulso(time,a)+Pulso2(time,b)+Pulso3(time,c);\n",
      "        nnew=PolPicardn(Vold,nold,s,o);\n",
      "        mnew=PolPicardm(Vold,mold,s,o);\n",
      "        hnew=PolPicardh(Vold,hold,s,o);\n",
      "        push!(VV,Vnew);\n",
      "        time+=s;\n",
      "        push!(Vt,time);\n",
      "        Vold=Vnew;\n",
      "        nold=nnew;\n",
      "        mold=mnew;\n",
      "        hold=hnew;\n",
      "    end\n",
      "    return VV;\n",
      "    return Vt;\n",
      "end;"
     ],
     "language": "python",
     "metadata": {},
     "outputs": [],
     "prompt_number": 18
    },
    {
     "cell_type": "markdown",
     "metadata": {},
     "source": [
      "p: n\u00famero de iteraciones\n",
      "\n",
      "s: delta temporal\n",
      "\n",
      "o: orden de los picard\n",
      "\n",
      "a: switch pulso 1\n",
      "\n",
      "b: switch pulso 2\n",
      "\n",
      "c: switch pulso 3"
     ]
    },
    {
     "cell_type": "heading",
     "level": 2,
     "metadata": {},
     "source": [
      "Modelo: Movimiento del Potencial"
     ]
    },
    {
     "cell_type": "heading",
     "level": 4,
     "metadata": {},
     "source": [
      "Voltaje en un punto"
     ]
    },
    {
     "cell_type": "code",
     "collapsed": false,
     "input": [
      "function coeff(x,t,s)\n",
      "    T=x-Vel*t\n",
      "    mE=div(T,s)\n",
      "    RD=rem(T,s)\n",
      "    N=s/2\n",
      "    if RD<N\n",
      "        A=mE-1\n",
      "    else\n",
      "        A=mE\n",
      "    end\n",
      "    B=convert(Integer,A)\n",
      "    return B\n",
      "end;\n",
      "\n",
      "function VolSel(Vec,p,s,x,t)\n",
      "    Cof=coeff(x,t,s)\n",
      "    q=p+1\n",
      "    if 1<=Cof<=q\n",
      "        Vol=Vec[Cof]\n",
      "    else \n",
      "        Vol=V0\n",
      "    end\n",
      "    return Vol\n",
      "end;"
     ],
     "language": "python",
     "metadata": {},
     "outputs": [],
     "prompt_number": 19
    },
    {
     "cell_type": "markdown",
     "metadata": {},
     "source": [
      "x:   posici\u00f3n en el espacio\n",
      "\n",
      "t:   tiempo transcurrido\n",
      "\n",
      "s:   delta temporal\n",
      "\n",
      "Vec: vector de voltajes\n",
      "\n",
      "p:   iteraciones temporales"
     ]
    },
    {
     "cell_type": "heading",
     "level": 4,
     "metadata": {},
     "source": [
      "Voltaje a lo largo del ax\u00f3n"
     ]
    },
    {
     "cell_type": "code",
     "collapsed": false,
     "input": [
      "function MovHH(p,st,pm,sx,t)\n",
      "    x=x0\n",
      "    for i=1:pm\n",
      "        x+=sx\n",
      "        push!(Vx,x)\n",
      "        mV=VolSel(VV,p,st,x,t)\n",
      "        push!(VmV,mV)\n",
      "    end\n",
      "    return Vx\n",
      "    return VmV\n",
      "end;"
     ],
     "language": "python",
     "metadata": {},
     "outputs": [],
     "prompt_number": 20
    },
    {
     "cell_type": "markdown",
     "metadata": {},
     "source": [
      "p:  iteraciones temporales\n",
      "\n",
      "st: delta de tiempo\n",
      "\n",
      "pm: iteraciones del espacio\n",
      "\n",
      "st: delta espacial\n",
      "\n",
      "t:  tiempo transcurrido"
     ]
    },
    {
     "cell_type": "heading",
     "level": 1,
     "metadata": {},
     "source": [
      "Ejemplos"
     ]
    },
    {
     "cell_type": "heading",
     "level": 4,
     "metadata": {},
     "source": [
      "Un solo pulso"
     ]
    },
    {
     "cell_type": "code",
     "collapsed": false,
     "input": [
      "VV=[V0];\n",
      "Vt=[t0];\n",
      "HH(499999,0.0001,10,0,1,0)\n",
      "\n",
      "\n",
      "using PyPlot\n",
      "plt.plot(Vt,VV)\n",
      "plt.xlabel(\"Tiempo [ms]\")\n",
      "plt.ylabel(\"Voltaje [mV]\")"
     ],
     "language": "python",
     "metadata": {},
     "outputs": [
      {
       "output_type": "stream",
       "stream": "stdout",
       "text": [
        "Loading help data...\n"
       ]
      },
      {
       "metadata": {},
       "output_type": "display_data",
       "png": "[encoded data removed]",
       "text": [
        "Figure(PyObject <matplotlib.figure.Figure object at 0xab47b1ec>)"
       ]
      },
      {
       "metadata": {},
       "output_type": "pyout",
       "prompt_number": 21,
       "text": [
        "PyObject <matplotlib.text.Text object at 0xab489fec>"
       ]
      }
     ],
     "prompt_number": 21
    },
    {
     "cell_type": "heading",
     "level": 4,
     "metadata": {},
     "source": [
      "Dos pulsos suficientemente espaciados"
     ]
    },
    {
     "cell_type": "code",
     "collapsed": false,
     "input": [
      "VV=[V0];\n",
      "Vt=[t0];\n",
      "HH(699999,0.0001,10,1,0,1)\n",
      "\n",
      "\n",
      "using PyPlot\n",
      "plt.plot(Vt,VV)\n",
      "plt.xlabel(\"Tiempo [ms]\")\n",
      "plt.ylabel(\"Voltaje [mV]\")"
     ],
     "language": "python",
     "metadata": {},
     "outputs": [
      {
       "metadata": {},
       "output_type": "display_data",
       "png": "[encoded data removed]",
       "text": [
        "Figure(PyObject <matplotlib.figure.Figure object at 0xab419f2c>)"
       ]
      },
      {
       "metadata": {},
       "output_type": "pyout",
       "prompt_number": 22,
       "text": [
        "PyObject <matplotlib.text.Text object at 0xacfe7bec>"
       ]
      }
     ],
     "prompt_number": 22
    },
    {
     "cell_type": "heading",
     "level": 4,
     "metadata": {},
     "source": [
      "Tres pulsos consecutivos, el segundo dentro del tiempo de reposo y el tercero tiempo despu\u00e9s"
     ]
    },
    {
     "cell_type": "code",
     "collapsed": false,
     "input": [
      "VV=[V0];\n",
      "Vt=[t0];\n",
      "HH(699999,0.0001,10,1,1,1)\n",
      "\n",
      "\n",
      "using PyPlot\n",
      "plt.plot(Vt,VV)\n",
      "plt.xlabel(\"Tiempo [ms]\")\n",
      "plt.ylabel(\"Voltaje [mV]\")"
     ],
     "language": "python",
     "metadata": {},
     "outputs": [
      {
       "metadata": {},
       "output_type": "display_data",
       "png": "[encoded data removed]",
       "text": [
        "Figure(PyObject <matplotlib.figure.Figure object at 0xaa82de6c>)"
       ]
      },
      {
       "metadata": {},
       "output_type": "pyout",
       "prompt_number": 23,
       "text": [
        "PyObject <matplotlib.text.Text object at 0xaa84bdac>"
       ]
      }
     ],
     "prompt_number": 23
    },
    {
     "cell_type": "heading",
     "level": 4,
     "metadata": {},
     "source": [
      "Propagaci\u00f3n del pulso en el espacio"
     ]
    },
    {
     "cell_type": "code",
     "collapsed": false,
     "input": [
      "VV=[V0];\n",
      "Vt=[t0];\n",
      "HH(500000,0.0001,10,1,0,0);"
     ],
     "language": "python",
     "metadata": {},
     "outputs": [],
     "prompt_number": 24
    },
    {
     "cell_type": "code",
     "collapsed": false,
     "input": [
      "Vx=[x0];\n",
      "mV=VolSel(VV,500000,0.001,0,10)\n",
      "VmV=[mV];\n",
      "MovHH(500000,0.001,1000000,0.0005,10)\n",
      "\n",
      "plt.plot(Vx,VmV)\n",
      "plt.xlabel(\"Posici\u00f3n []\")\n",
      "plt.ylabel(\"Voltaje [mV]\")"
     ],
     "language": "python",
     "metadata": {},
     "outputs": [
      {
       "metadata": {},
       "output_type": "display_data",
       "png": "[encoded data removed]",
       "text": [
        "Figure(PyObject <matplotlib.figure.Figure object at 0xaac54ccc>)"
       ]
      },
      {
       "metadata": {},
       "output_type": "pyout",
       "prompt_number": 25,
       "text": [
        "PyObject <matplotlib.text.Text object at 0xaac65eac>"
       ]
      }
     ],
     "prompt_number": 25
    },
    {
     "cell_type": "code",
     "collapsed": false,
     "input": [
      "Vx=[x0];\n",
      "mV=VolSel(VV,500000,0.001,0,200)\n",
      "VmV=[mV];\n",
      "MovHH(500000,0.001,1000000,0.0005,200)\n",
      "\n",
      "plt.plot(Vx,VmV)\n",
      "plt.xlabel(\"Posici\u00f3n []\")\n",
      "plt.ylabel(\"Voltaje [mV]\")"
     ],
     "language": "python",
     "metadata": {},
     "outputs": [
      {
       "metadata": {},
       "output_type": "display_data",
       "png": "[encoded data removed]",
       "text": [
        "Figure(PyObject <matplotlib.figure.Figure object at 0xad05a4ac>)"
       ]
      },
      {
       "metadata": {},
       "output_type": "pyout",
       "prompt_number": 26,
       "text": [
        "PyObject <matplotlib.text.Text object at 0xa87fff8c>"
       ]
      }
     ],
     "prompt_number": 26
    }
   ],
   "metadata": {}
  }
 ]
}