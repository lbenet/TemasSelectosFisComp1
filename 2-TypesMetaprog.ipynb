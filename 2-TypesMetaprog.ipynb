{
 "metadata": {
  "language": "Julia",
  "name": "",
  "signature": "sha256:d468c801291ccdef947d5c479b48fd912b98a8a70ed2bbc203f277918f7b18ab"
 },
 "nbformat": 3,
 "nbformat_minor": 0,
 "worksheets": [
  {
   "cells": [
    {
     "cell_type": "heading",
     "level": 1,
     "metadata": {},
     "source": [
      "*Types*"
     ]
    },
    {
     "cell_type": "code",
     "collapsed": false,
     "input": [
      "type Mivec\n",
      "    x\n",
      "    y\n",
      "end"
     ],
     "language": "python",
     "metadata": {},
     "outputs": [],
     "prompt_number": 1
    },
    {
     "cell_type": "code",
     "collapsed": false,
     "input": [
      "v1 = Mivec(1,2)"
     ],
     "language": "python",
     "metadata": {},
     "outputs": [
      {
       "metadata": {},
       "output_type": "pyout",
       "prompt_number": 2,
       "text": [
        "Mivec(1,2)"
       ]
      }
     ],
     "prompt_number": 2
    },
    {
     "cell_type": "code",
     "collapsed": false,
     "input": [
      "[1,2]"
     ],
     "language": "python",
     "metadata": {},
     "outputs": [
      {
       "metadata": {},
       "output_type": "pyout",
       "prompt_number": 3,
       "text": [
        "2-element Array{Int64,1}:\n",
        " 1\n",
        " 2"
       ]
      }
     ],
     "prompt_number": 3
    },
    {
     "cell_type": "code",
     "collapsed": false,
     "input": [
      "[1.6,1.2]"
     ],
     "language": "python",
     "metadata": {},
     "outputs": [
      {
       "metadata": {},
       "output_type": "pyout",
       "prompt_number": 4,
       "text": [
        "2-element Array{Float64,1}:\n",
        " 1.6\n",
        " 1.2"
       ]
      }
     ],
     "prompt_number": 4
    },
    {
     "cell_type": "code",
     "collapsed": false,
     "input": [
      "Mivec(1,1.2)"
     ],
     "language": "python",
     "metadata": {},
     "outputs": [
      {
       "metadata": {},
       "output_type": "pyout",
       "prompt_number": 5,
       "text": [
        "Mivec(1,1.2)"
       ]
      }
     ],
     "prompt_number": 5
    },
    {
     "cell_type": "code",
     "collapsed": false,
     "input": [
      "sizeof([1.6,1.2])"
     ],
     "language": "python",
     "metadata": {},
     "outputs": [
      {
       "metadata": {},
       "output_type": "pyout",
       "prompt_number": 6,
       "text": [
        "16"
       ]
      }
     ],
     "prompt_number": 6
    },
    {
     "cell_type": "code",
     "collapsed": false,
     "input": [
      "sizeof(Mivec(1,1.2))"
     ],
     "language": "python",
     "metadata": {},
     "outputs": [
      {
       "metadata": {},
       "output_type": "pyout",
       "prompt_number": 7,
       "text": [
        "16"
       ]
      }
     ],
     "prompt_number": 7
    },
    {
     "cell_type": "code",
     "collapsed": false,
     "input": [
      "Mivec(\"lalala\", 1.3)"
     ],
     "language": "python",
     "metadata": {},
     "outputs": [
      {
       "metadata": {},
       "output_type": "pyout",
       "prompt_number": 8,
       "text": [
        "Mivec(\"lalala\",1.3)"
       ]
      }
     ],
     "prompt_number": 8
    },
    {
     "cell_type": "code",
     "collapsed": false,
     "input": [
      "type MivecT{T}  # MivecT{T <: Any}\n",
      "    x :: T\n",
      "    y :: T\n",
      "end"
     ],
     "language": "python",
     "metadata": {},
     "outputs": [],
     "prompt_number": 9
    },
    {
     "cell_type": "code",
     "collapsed": false,
     "input": [
      "MivecT(\"lala\", 2.2)"
     ],
     "language": "python",
     "metadata": {},
     "outputs": [
      {
       "ename": "LoadError",
       "evalue": "`MivecT{T}` has no method matching MivecT{T}(::ASCIIString, ::Float64)\nwhile loading In[10], in expression starting on line 1",
       "output_type": "pyerr",
       "traceback": [
        "`MivecT{T}` has no method matching MivecT{T}(::ASCIIString, ::Float64)\nwhile loading In[10], in expression starting on line 1",
        ""
       ]
      }
     ],
     "prompt_number": 10
    },
    {
     "cell_type": "code",
     "collapsed": false,
     "input": [
      "v1 = MivecT(\"Hola\", \" Luis\")"
     ],
     "language": "python",
     "metadata": {},
     "outputs": [
      {
       "metadata": {},
       "output_type": "pyout",
       "prompt_number": 11,
       "text": [
        "MivecT{ASCIIString}(\"Hola\",\" Luis\")"
       ]
      }
     ],
     "prompt_number": 11
    },
    {
     "cell_type": "code",
     "collapsed": false,
     "input": [
      "v1.x"
     ],
     "language": "python",
     "metadata": {},
     "outputs": [
      {
       "metadata": {},
       "output_type": "pyout",
       "prompt_number": 12,
       "text": [
        "\"Hola\""
       ]
      }
     ],
     "prompt_number": 12
    },
    {
     "cell_type": "code",
     "collapsed": false,
     "input": [
      "v1.y"
     ],
     "language": "python",
     "metadata": {},
     "outputs": [
      {
       "metadata": {},
       "output_type": "pyout",
       "prompt_number": 13,
       "text": [
        "\" Luis\""
       ]
      }
     ],
     "prompt_number": 13
    },
    {
     "cell_type": "code",
     "collapsed": false,
     "input": [
      "v1 = MivecT(1,2)\n",
      "v2 = MivecT(-2,9)"
     ],
     "language": "python",
     "metadata": {},
     "outputs": [
      {
       "metadata": {},
       "output_type": "pyout",
       "prompt_number": 14,
       "text": [
        "MivecT{Int64}(-2,9)"
       ]
      }
     ],
     "prompt_number": 14
    },
    {
     "cell_type": "code",
     "collapsed": false,
     "input": [
      "v1 + v2"
     ],
     "language": "python",
     "metadata": {},
     "outputs": [
      {
       "ename": "LoadError",
       "evalue": "`+` has no method matching +(::MivecT{Int64}, ::MivecT{Int64})\nwhile loading In[15], in expression starting on line 1",
       "output_type": "pyerr",
       "traceback": [
        "`+` has no method matching +(::MivecT{Int64}, ::MivecT{Int64})\nwhile loading In[15], in expression starting on line 1",
        ""
       ]
      }
     ],
     "prompt_number": 15
    },
    {
     "cell_type": "code",
     "collapsed": false,
     "input": [
      "typeof( v1 )"
     ],
     "language": "python",
     "metadata": {},
     "outputs": [
      {
       "metadata": {},
       "output_type": "pyout",
       "prompt_number": 16,
       "text": [
        "MivecT{Int64} (constructor with 1 method)"
       ]
      }
     ],
     "prompt_number": 16
    },
    {
     "cell_type": "code",
     "collapsed": false,
     "input": [
      "typeof( Mivec(\"hola\", 1))"
     ],
     "language": "python",
     "metadata": {},
     "outputs": [
      {
       "metadata": {},
       "output_type": "pyout",
       "prompt_number": 17,
       "text": [
        "Mivec (constructor with 1 method)"
       ]
      }
     ],
     "prompt_number": 17
    },
    {
     "cell_type": "code",
     "collapsed": false,
     "input": [
      "xx = 10  :: Int"
     ],
     "language": "python",
     "metadata": {},
     "outputs": [
      {
       "metadata": {},
       "output_type": "pyout",
       "prompt_number": 18,
       "text": [
        "10"
       ]
      }
     ],
     "prompt_number": 18
    },
    {
     "cell_type": "code",
     "collapsed": false,
     "input": [
      "xx = 1.2"
     ],
     "language": "python",
     "metadata": {},
     "outputs": [
      {
       "metadata": {},
       "output_type": "pyout",
       "prompt_number": 19,
       "text": [
        "1.2"
       ]
      }
     ],
     "prompt_number": 19
    },
    {
     "cell_type": "code",
     "collapsed": false,
     "input": [
      "+(a::MivecT, b::MivecT) = MivecT( a.x + b.x, a.y + b.y )"
     ],
     "language": "python",
     "metadata": {},
     "outputs": [
      {
       "metadata": {},
       "output_type": "pyout",
       "prompt_number": 20,
       "text": [
        "+ (generic function with 126 methods)"
       ]
      }
     ],
     "prompt_number": 20
    },
    {
     "cell_type": "code",
     "collapsed": false,
     "input": [
      "v1 + v2"
     ],
     "language": "python",
     "metadata": {},
     "outputs": [
      {
       "metadata": {},
       "output_type": "pyout",
       "prompt_number": 21,
       "text": [
        "MivecT{Int64}(-1,11)"
       ]
      }
     ],
     "prompt_number": 21
    },
    {
     "cell_type": "code",
     "collapsed": false,
     "input": [
      "v1 - v2"
     ],
     "language": "python",
     "metadata": {},
     "outputs": [
      {
       "ename": "LoadError",
       "evalue": "`-` has no method matching -(::MivecT{Int64}, ::MivecT{Int64})\nwhile loading In[22], in expression starting on line 1",
       "output_type": "pyerr",
       "traceback": [
        "`-` has no method matching -(::MivecT{Int64}, ::MivecT{Int64})\nwhile loading In[22], in expression starting on line 1",
        ""
       ]
      }
     ],
     "prompt_number": 22
    },
    {
     "cell_type": "code",
     "collapsed": false,
     "input": [
      "MivecT(1,2) + MivecT(3.3, -7.1)"
     ],
     "language": "python",
     "metadata": {},
     "outputs": [
      {
       "metadata": {},
       "output_type": "pyout",
       "prompt_number": 23,
       "text": [
        "MivecT{Float64}(4.3,-5.1)"
       ]
      }
     ],
     "prompt_number": 23
    },
    {
     "cell_type": "code",
     "collapsed": false,
     "input": [
      "?Complex"
     ],
     "language": "python",
     "metadata": {},
     "outputs": [
      {
       "output_type": "stream",
       "stream": "stderr",
       "text": [
        "INFO: Loading help data...\n"
       ]
      },
      {
       "output_type": "stream",
       "stream": "stdout",
       "text": [
        "DataType   : Complex"
       ]
      },
      {
       "output_type": "stream",
       "stream": "stdout",
       "text": [
        "{T<:Real} (constructor with 3 methods)\n",
        "  supertype: Number\n",
        "  fields   : (:re,:im)\n"
       ]
      }
     ],
     "prompt_number": 24
    },
    {
     "cell_type": "code",
     "collapsed": false,
     "input": [
      "?MivecT"
     ],
     "language": "python",
     "metadata": {},
     "outputs": [
      {
       "output_type": "stream",
       "stream": "stdout",
       "text": [
        "DataType   : MivecT"
       ]
      },
      {
       "output_type": "stream",
       "stream": "stdout",
       "text": [
        "{T} (constructor with 1 method)\n",
        "  supertype: Any\n",
        "  fields   : (:x,:y)\n"
       ]
      }
     ],
     "prompt_number": 25
    },
    {
     "cell_type": "code",
     "collapsed": false,
     "input": [
      "MivecT(\"Hola\", \"Luis\") + MivecT(\"ciao\", \"ciao\")"
     ],
     "language": "python",
     "metadata": {},
     "outputs": [
      {
       "ename": "LoadError",
       "evalue": "`+` has no method matching +(::ASCIIString, ::ASCIIString)\nwhile loading In[26], in expression starting on line 1",
       "output_type": "pyerr",
       "traceback": [
        "`+` has no method matching +(::ASCIIString, ::ASCIIString)\nwhile loading In[26], in expression starting on line 1",
        "",
        " in + at In[20]:1"
       ]
      }
     ],
     "prompt_number": 26
    },
    {
     "cell_type": "code",
     "collapsed": false,
     "input": [
      "\"Hola\" * \"Luis\""
     ],
     "language": "python",
     "metadata": {},
     "outputs": [
      {
       "metadata": {},
       "output_type": "pyout",
       "prompt_number": 27,
       "text": [
        "\"HolaLuis\""
       ]
      }
     ],
     "prompt_number": 27
    },
    {
     "cell_type": "code",
     "collapsed": false,
     "input": [
      "?Float64"
     ],
     "language": "python",
     "metadata": {},
     "outputs": [
      {
       "output_type": "stream",
       "stream": "stdout",
       "text": [
        "DataType   : Float64"
       ]
      },
      {
       "output_type": "stream",
       "stream": "stdout",
       "text": [
        "\n",
        "  supertype: FloatingPoint\n"
       ]
      }
     ],
     "prompt_number": 28
    },
    {
     "cell_type": "code",
     "collapsed": false,
     "input": [
      "?Any"
     ],
     "language": "python",
     "metadata": {},
     "outputs": [
      {
       "output_type": "stream",
       "stream": "stdout",
       "text": [
        "DataType   : Any"
       ]
      },
      {
       "output_type": "stream",
       "stream": "stdout",
       "text": [
        "\n",
        "  supertype: Any\n",
        "  subtypes : "
       ]
      },
      {
       "output_type": "stream",
       "stream": "stdout",
       "text": [
        "{AbstractArray{T,N},AbstractCmd,AbstractHeap{VT},AbstractREPL,AbstractRNG,Accumulator{T,V<:Number},Algorithm,Any,Associative{K,V},AsyncWork,Available,BoundingBox,Box,CFILE,CPUinfo,CallStack,ChmCommon,CholmodDense{T<:Union(Float64,Float32,Complex{Float32},Complex{Float64})},CholmodFactor{Tv<:Union(Float64,Float32,Complex{Float32},Complex{Float64}),Ti<:Union(Int32,Int64)},CholmodSparse{Tv<:Union(Float64,Float32,Complex{Float32},Complex{Float64}),Ti<:Union(Int32,Int64)},CholmodTriplet{Tv<:Union(Float64,Float32,Complex{Float32},Complex{Float64}),Ti<:Union(Int32,Int64)},ClassifiedCollections{K,Collection},ClusterManager,Colon,Combinations{T},Comm{target},CompletionProvider,Condition,Context,DLMHandler,DSFMT_state,DequeBlock{T},DequeIterator{T},Deque{T},DisjointSets{T},Display,EachLine,EmptyCallStack,Enumerate{I},Exception,Expr,FDEvent,Factorization{T},FieldValue,FileEvent,FileMonitor,FileRedirect,Filter{I},Fixed,FixedPartitions,FixedSetPartitions{T<:AbstractArray{T,1}},Function,Func{N},GetfieldNode,GitVersionInfo,GotoNode,Graph,GraphicsContext,GraphicsDevice,GreaterThan,HMACState{T<:HashAlgorithm},HashAlgorithm,HashState{T<:HashAlgorithm},HierarchicalValue{T},HistoryProvider,IO,InetAddr,InputAreaState,IntDisjointSets,IntSet,IntegerPartitions,Interface,IntrinsicFunction,IpAddr,KeyIterator{T<:Associative{K,V}},LabelNode,LambdaStaticData,LessThan,Line,LineInfo,LineNumberNode,LinkedList{T},LocalProcess,LongExpr,LongSymbol,LongTuple,MIME{mime},MIState,MaxSumParams,Messages,Method,MethodTable,Mivec,MivecT{T},Module,Msg,MutableBinaryHeapNode{T},NTuple{N,T},NettleHash,NewvarNode,NotFound,Nothing,Number,OrderedSet{T},Ordering,ParserState{T<:String},Permutations{T},Plan{T<:Union(Float64,Float32,Complex{Float32},Complex{Float64})},Prehashed,Process,ProcessChain,ProcessGroup,PromptState,Ptr{T},Queue{S},QuoteNode,REPLBackend,REPLBackendRef,RandIntGen{T<:Integer,U<:Unsigned},RawFD,Regex,RegexMatch,RegexMatchIterator,RemoteRef,RemoteValue,Rest{I,S},Result,Rotation{T},RoundingMode,SearchState,Segment,SetPartitions{T<:AbstractArray{T,1}},Set{T},Socket,SpDiagIterator{Tv,Ti},Stack{S},StatStruct,State,StateUpdate,State{I},StaticVarInfo,String,Symbol,SymbolNode,T...,Task,TextInterface,TmStruct,TopNode,Trie{T},TypeName,TypeVar,Type{T<:Top},UUID,UVPollingWatcher,UVServer,UV_cpu_info_t,UndefRefTag,UniformScaling{T<:Number},VWPreBuild,VWPreBuildItem,ValueIterator{T<:Associative{K,V}},Vec2,VersionInterval,VersionNumber,VersionSet,VersionWeight,WeakRef,Worker,ZeroOffsetVector,Zip2{I1,I2},Zip{I<:(Any...,)},c_CholmodDense{T<:Union(Float64,Float32,Complex{Float32},Complex{Float64})},c_CholmodFactor{Tv<:Union(Float64,Float32,Complex{Float32},Complex{Float64}),Ti<:Union(Int32,Int64)},c_CholmodSparse{Tv<:Union(Float64,Float32,Complex{Float32},Complex{Float64}),Ti<:Union(Int32,Int64)},c_CholmodTriplet{Tv<:Union(Float64,Float32,Complex{Float32},Complex{Float64}),Ti<:Union(Int32,Int64)}}\n"
       ]
      }
     ],
     "prompt_number": 29
    },
    {
     "cell_type": "code",
     "collapsed": false,
     "input": [
      "?FloatingPoint"
     ],
     "language": "python",
     "metadata": {},
     "outputs": [
      {
       "output_type": "stream",
       "stream": "stdout",
       "text": [
        "DataType   : FloatingPoint"
       ]
      },
      {
       "output_type": "stream",
       "stream": "stdout",
       "text": [
        "\n",
        "  supertype: Real\n",
        "  subtypes : {BigFloat,Float16,Float32,Float64}\n"
       ]
      }
     ],
     "prompt_number": 30
    },
    {
     "cell_type": "code",
     "collapsed": false,
     "input": [
      "type MyvecReal\n",
      "    x :: FloatingPoint\n",
      "    y :: FloatingPoint\n",
      "end"
     ],
     "language": "python",
     "metadata": {},
     "outputs": [],
     "prompt_number": 31
    },
    {
     "cell_type": "code",
     "collapsed": false,
     "input": [
      "MyvecReal(1, 1.2)"
     ],
     "language": "python",
     "metadata": {},
     "outputs": [
      {
       "metadata": {},
       "output_type": "pyout",
       "prompt_number": 32,
       "text": [
        "MyvecReal(1.0,1.2)"
       ]
      }
     ],
     "prompt_number": 32
    },
    {
     "cell_type": "code",
     "collapsed": false,
     "input": [
      "Int <: Real"
     ],
     "language": "python",
     "metadata": {},
     "outputs": [
      {
       "metadata": {},
       "output_type": "pyout",
       "prompt_number": 33,
       "text": [
        "true"
       ]
      }
     ],
     "prompt_number": 33
    },
    {
     "cell_type": "code",
     "collapsed": false,
     "input": [
      "?Real"
     ],
     "language": "python",
     "metadata": {},
     "outputs": [
      {
       "output_type": "stream",
       "stream": "stdout",
       "text": [
        "DataType   : Real"
       ]
      },
      {
       "output_type": "stream",
       "stream": "stdout",
       "text": [
        "\n",
        "  supertype: Number\n",
        "  subtypes : {FloatingPoint,Integer,MathConst{sym},Rational{T<:Integer}}\n"
       ]
      }
     ],
     "prompt_number": 34
    },
    {
     "cell_type": "code",
     "collapsed": false,
     "input": [
      "immutable MivecD{T <: FloatingPoint}\n",
      "    x\n",
      "    y\n",
      "end\n",
      "\n",
      "MivecD{Float64}"
     ],
     "language": "python",
     "metadata": {},
     "outputs": [
      {
       "metadata": {},
       "output_type": "pyout",
       "prompt_number": 35,
       "text": [
        "MivecD{Float64} (constructor with 1 method)"
       ]
      }
     ],
     "prompt_number": 35
    },
    {
     "cell_type": "code",
     "collapsed": false,
     "input": [
      "type Mivec1{T <: FloatingPoint}\n",
      "    x :: T\n",
      "    y :: T\n",
      "end"
     ],
     "language": "python",
     "metadata": {},
     "outputs": [],
     "prompt_number": 36
    },
    {
     "cell_type": "markdown",
     "metadata": {},
     "source": [
      "Quiero definir *algo* de tal manera que escribiendo:\n",
      "```julia\n",
      "Mivec1(1,2)\n",
      "```\n",
      "sea equivalente a\n",
      "```julia\n",
      "Mivec(1.0,2.0)\n",
      "```"
     ]
    },
    {
     "cell_type": "code",
     "collapsed": false,
     "input": [
      "Mivec1(1,2)"
     ],
     "language": "python",
     "metadata": {},
     "outputs": [
      {
       "ename": "LoadError",
       "evalue": "`Mivec1{T<:FloatingPoint}` has no method matching Mivec1{T<:FloatingPoint}(::Int64, ::Int64)\nwhile loading In[37], in expression starting on line 1",
       "output_type": "pyerr",
       "traceback": [
        "`Mivec1{T<:FloatingPoint}` has no method matching Mivec1{T<:FloatingPoint}(::Int64, ::Int64)\nwhile loading In[37], in expression starting on line 1",
        ""
       ]
      }
     ],
     "prompt_number": 37
    },
    {
     "cell_type": "code",
     "collapsed": false,
     "input": [
      "?Integer"
     ],
     "language": "python",
     "metadata": {},
     "outputs": [
      {
       "output_type": "stream",
       "stream": "stdout",
       "text": [
        "DataType   : Integer"
       ]
      },
      {
       "output_type": "stream",
       "stream": "stdout",
       "text": [
        "\n",
        "  supertype: Real\n",
        "  subtypes : {BigInt,Bool,Char,Signed,Unsigned}\n"
       ]
      }
     ],
     "prompt_number": 38
    },
    {
     "cell_type": "code",
     "collapsed": false,
     "input": [
      "?Signed"
     ],
     "language": "python",
     "metadata": {},
     "outputs": [
      {
       "output_type": "stream",
       "stream": "stdout",
       "text": [
        "DataType   : Signed"
       ]
      },
      {
       "output_type": "stream",
       "stream": "stdout",
       "text": [
        "\n",
        "  supertype: Integer\n",
        "  subtypes : {Int128,Int16,Int32,Int64,Int8}\n"
       ]
      }
     ],
     "prompt_number": 39
    },
    {
     "cell_type": "code",
     "collapsed": false,
     "input": [
      "Mivec1(x::Integer, y::Integer) = \n",
      "    Mivec1( convert(Float64,x), convert(Float64,y))"
     ],
     "language": "python",
     "metadata": {},
     "outputs": [
      {
       "metadata": {},
       "output_type": "pyout",
       "prompt_number": 40,
       "text": [
        "Mivec1{T<:FloatingPoint} (constructor with 2 methods)"
       ]
      }
     ],
     "prompt_number": 40
    },
    {
     "cell_type": "code",
     "collapsed": false,
     "input": [
      "Mivec1(1,2.2)"
     ],
     "language": "python",
     "metadata": {},
     "outputs": [
      {
       "ename": "LoadError",
       "evalue": "`Mivec1{T<:FloatingPoint}` has no method matching Mivec1{T<:FloatingPoint}(::Int64, ::Float64)\nwhile loading In[41], in expression starting on line 1",
       "output_type": "pyerr",
       "traceback": [
        "`Mivec1{T<:FloatingPoint}` has no method matching Mivec1{T<:FloatingPoint}(::Int64, ::Float64)\nwhile loading In[41], in expression starting on line 1",
        ""
       ]
      }
     ],
     "prompt_number": 41
    },
    {
     "cell_type": "code",
     "collapsed": false,
     "input": [
      "Mivec1(1,2)"
     ],
     "language": "python",
     "metadata": {},
     "outputs": [
      {
       "metadata": {},
       "output_type": "pyout",
       "prompt_number": 42,
       "text": [
        "Mivec1{Float64}(1.0,2.0)"
       ]
      }
     ],
     "prompt_number": 42
    },
    {
     "cell_type": "code",
     "collapsed": false,
     "input": [
      "# +(a::Mivec1, b::Mivec1) = Mivec1(a.x+b.x, a.y+b.y)\n",
      "# -(a::Mivec1, b::Mivec1) = Mivec1(a.x-b.x, a.y-b.y)\n",
      "\n",
      "# Este es un ejemplo de METAPROGRAMING\n",
      "for op in (:+,:-,:*)\n",
      "    @eval $(op)(a::Mivec1, b::Mivec1) = \n",
      "        Mivec1($(op)(a.x,b.x), $(op)(a.y,b.y))\n",
      "end"
     ],
     "language": "python",
     "metadata": {},
     "outputs": [],
     "prompt_number": 43
    },
    {
     "cell_type": "code",
     "collapsed": false,
     "input": [
      "v1 = Mivec1(1,2)\n",
      "v2 = Mivec1(0.3, 1.4)"
     ],
     "language": "python",
     "metadata": {},
     "outputs": [
      {
       "metadata": {},
       "output_type": "pyout",
       "prompt_number": 44,
       "text": [
        "Mivec1{Float64}(0.3,1.4)"
       ]
      }
     ],
     "prompt_number": 44
    },
    {
     "cell_type": "code",
     "collapsed": false,
     "input": [
      "v1 + v2"
     ],
     "language": "python",
     "metadata": {},
     "outputs": [
      {
       "metadata": {},
       "output_type": "pyout",
       "prompt_number": 45,
       "text": [
        "Mivec1{Float64}(1.3,3.4)"
       ]
      }
     ],
     "prompt_number": 45
    },
    {
     "cell_type": "code",
     "collapsed": false,
     "input": [
      "@which v1 + v2"
     ],
     "language": "python",
     "metadata": {},
     "outputs": [
      {
       "html": [
        "+(a::<b>Mivec1{T<:FloatingPoint}</b>,b::<b>Mivec1{T<:FloatingPoint}</b>) at In[43]:6"
       ],
       "metadata": {},
       "output_type": "pyout",
       "prompt_number": 46,
       "text": [
        "+(a::Mivec1{T<:FloatingPoint},b::Mivec1{T<:FloatingPoint}) at In[43]:6"
       ]
      }
     ],
     "prompt_number": 46
    },
    {
     "cell_type": "markdown",
     "metadata": {},
     "source": [
      "Cosas por hacer:\n",
      "\n",
      "Mivec1(1.2)  ----> Mivec1(1.2, 0.0)\n",
      "\n",
      "3 + Mivec1(1,2) , Mivec1(1,2) + 3 ----> Mivec1(4,2)\n",
      "\n"
     ]
    },
    {
     "cell_type": "code",
     "collapsed": false,
     "input": [
      "Mivec1(1.2)"
     ],
     "language": "python",
     "metadata": {},
     "outputs": [
      {
       "ename": "LoadError",
       "evalue": "`Mivec1{T<:FloatingPoint}` has no method matching Mivec1{T<:FloatingPoint}(::Float64)\nwhile loading In[47], in expression starting on line 1",
       "output_type": "pyerr",
       "traceback": [
        "`Mivec1{T<:FloatingPoint}` has no method matching Mivec1{T<:FloatingPoint}(::Float64)\nwhile loading In[47], in expression starting on line 1",
        ""
       ]
      }
     ],
     "prompt_number": 47
    },
    {
     "cell_type": "code",
     "collapsed": false,
     "input": [
      "Mivec1(1,2) + 3"
     ],
     "language": "python",
     "metadata": {},
     "outputs": [
      {
       "ename": "LoadError",
       "evalue": "`+` has no method matching +(::Mivec1{Float64}, ::Int64)\nwhile loading In[48], in expression starting on line 1",
       "output_type": "pyerr",
       "traceback": [
        "`+` has no method matching +(::Mivec1{Float64}, ::Int64)\nwhile loading In[48], in expression starting on line 1",
        ""
       ]
      }
     ],
     "prompt_number": 48
    },
    {
     "cell_type": "code",
     "collapsed": false,
     "input": [
      "*(v1,v2)"
     ],
     "language": "python",
     "metadata": {},
     "outputs": [
      {
       "metadata": {},
       "output_type": "pyout",
       "prompt_number": 49,
       "text": [
        "Mivec1{Float64}(0.3,2.8)"
       ]
      }
     ],
     "prompt_number": 49
    },
    {
     "cell_type": "code",
     "collapsed": false,
     "input": [
      "@eval +(v1,v2)"
     ],
     "language": "python",
     "metadata": {},
     "outputs": [
      {
       "metadata": {},
       "output_type": "pyout",
       "prompt_number": 50,
       "text": [
        "Mivec1{Float64}(1.3,3.4)"
       ]
      }
     ],
     "prompt_number": 50
    },
    {
     "cell_type": "code",
     "collapsed": false,
     "input": [
      "for fn in (:(Base.exp), :(Base.sin))\n",
      "    @eval begin\n",
      "        $fn(a::Mivec1) = Mivec1( $fn(a.x), $fn(a.y))\n",
      "    end\n",
      "end"
     ],
     "language": "python",
     "metadata": {},
     "outputs": [],
     "prompt_number": 51
    },
    {
     "cell_type": "code",
     "collapsed": false,
     "input": [
      "@which exp(v1)"
     ],
     "language": "python",
     "metadata": {},
     "outputs": [
      {
       "html": [
        "exp(a::<b>Mivec1{T<:FloatingPoint}</b>) at In[51]:3"
       ],
       "metadata": {},
       "output_type": "pyout",
       "prompt_number": 52,
       "text": [
        "exp(a::Mivec1{T<:FloatingPoint}) at In[51]:3"
       ]
      }
     ],
     "prompt_number": 52
    },
    {
     "cell_type": "code",
     "collapsed": false,
     "input": [
      "methodswith(Mivec1)"
     ],
     "language": "python",
     "metadata": {},
     "outputs": [
      {
       "html": [
        "6-element Array{Method,1}:<ul><li> +(a::<b>Mivec1{T<:FloatingPoint}</b>,b::<b>Mivec1{T<:FloatingPoint}</b>) at In[43]:6<li> exp(a::<b>Mivec1{T<:FloatingPoint}</b>) at In[51]:3<li> sin(a::<b>Mivec1{T<:FloatingPoint}</b>) at In[51]:3<li> -(a::<b>Mivec1{T<:FloatingPoint}</b>,b::<b>Mivec1{T<:FloatingPoint}</b>) at In[43]:6<li> +(a::<b>Mivec1{T<:FloatingPoint}</b>,b::<b>Mivec1{T<:FloatingPoint}</b>) at In[43]:6<li> *(a::<b>Mivec1{T<:FloatingPoint}</b>,b::<b>Mivec1{T<:FloatingPoint}</b>) at In[43]:6</ul>"
       ],
       "metadata": {},
       "output_type": "pyout",
       "prompt_number": 53,
       "text": [
        "6-element Array{Method,1}:\n",
        " +(a::Mivec1{T<:FloatingPoint},b::Mivec1{T<:FloatingPoint}) at In[43]:6\n",
        " exp(a::Mivec1{T<:FloatingPoint}) at In[51]:3                          \n",
        " sin(a::Mivec1{T<:FloatingPoint}) at In[51]:3                          \n",
        " -(a::Mivec1{T<:FloatingPoint},b::Mivec1{T<:FloatingPoint}) at In[43]:6\n",
        " +(a::Mivec1{T<:FloatingPoint},b::Mivec1{T<:FloatingPoint}) at In[43]:6\n",
        " *(a::Mivec1{T<:FloatingPoint},b::Mivec1{T<:FloatingPoint}) at In[43]:6"
       ]
      }
     ],
     "prompt_number": 53
    },
    {
     "cell_type": "code",
     "collapsed": false,
     "input": [
      "exp(v1)"
     ],
     "language": "python",
     "metadata": {},
     "outputs": [
      {
       "metadata": {},
       "output_type": "pyout",
       "prompt_number": 54,
       "text": [
        "Mivec1{Float64}(2.718281828459045,7.38905609893065)"
       ]
      }
     ],
     "prompt_number": 54
    },
    {
     "cell_type": "code",
     "collapsed": false,
     "input": [],
     "language": "python",
     "metadata": {},
     "outputs": []
    }
   ],
   "metadata": {}
  }
 ]
}